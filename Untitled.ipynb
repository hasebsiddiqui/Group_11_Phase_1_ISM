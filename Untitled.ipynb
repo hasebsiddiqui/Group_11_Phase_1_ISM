{
 "cells": [
  {
   "cell_type": "markdown",
   "id": "7ec2f2af",
   "metadata": {},
   "source": [
    "# ISM Project\n"
   ]
  },
  {
   "cell_type": "code",
   "execution_count": 1,
   "id": "a1894573",
   "metadata": {},
   "outputs": [],
   "source": [
    "#Importing Important Libraries"
   ]
  },
  {
   "cell_type": "code",
   "execution_count": 2,
   "id": "2e2e40a5",
   "metadata": {},
   "outputs": [],
   "source": [
    "import numpy as np\n",
    "import pandas as pd\n",
    "import matplotlib as mpl\n",
    "import sklearn as sk\n",
    "from sklearn import preprocessing\n",
    "from sklearn.model_selection import train_test_split\n",
    "import pylab as pl\n",
    "import matplotlib.pyplot as plt\n",
    "%matplotlib inline\n"
   ]
  },
  {
   "cell_type": "markdown",
   "id": "f3d8b9e0",
   "metadata": {},
   "source": [
    "# Reading and Preparting Training Data Training CsV"
   ]
  },
  {
   "cell_type": "code",
   "execution_count": 3,
   "id": "f89032f0",
   "metadata": {},
   "outputs": [
    {
     "data": {
      "text/html": [
       "<div>\n",
       "<style scoped>\n",
       "    .dataframe tbody tr th:only-of-type {\n",
       "        vertical-align: middle;\n",
       "    }\n",
       "\n",
       "    .dataframe tbody tr th {\n",
       "        vertical-align: top;\n",
       "    }\n",
       "\n",
       "    .dataframe thead th {\n",
       "        text-align: right;\n",
       "    }\n",
       "</style>\n",
       "<table border=\"1\" class=\"dataframe\">\n",
       "  <thead>\n",
       "    <tr style=\"text-align: right;\">\n",
       "      <th></th>\n",
       "      <th>name</th>\n",
       "      <th>label</th>\n",
       "    </tr>\n",
       "  </thead>\n",
       "  <tbody>\n",
       "    <tr>\n",
       "      <th>0</th>\n",
       "      <td>bee9cf01-3c37-4605-bb49-1695e19882d1</td>\n",
       "      <td>1</td>\n",
       "    </tr>\n",
       "    <tr>\n",
       "      <th>1</th>\n",
       "      <td>e8064fa6-f6d1-4c57-889b-594fbaeb91c3</td>\n",
       "      <td>1</td>\n",
       "    </tr>\n",
       "    <tr>\n",
       "      <th>2</th>\n",
       "      <td>a663be20-e30c-40ac-926a-26b64c52457f</td>\n",
       "      <td>1</td>\n",
       "    </tr>\n",
       "    <tr>\n",
       "      <th>3</th>\n",
       "      <td>9e658b7d-3269-4d2f-8ae7-902f761865d6</td>\n",
       "      <td>1</td>\n",
       "    </tr>\n",
       "    <tr>\n",
       "      <th>4</th>\n",
       "      <td>7a37b2ff-2400-4f4d-969b-7a98dc43bb65</td>\n",
       "      <td>1</td>\n",
       "    </tr>\n",
       "    <tr>\n",
       "      <th>5</th>\n",
       "      <td>518814a2-e1c3-48f2-9280-4b256422613d</td>\n",
       "      <td>0</td>\n",
       "    </tr>\n",
       "    <tr>\n",
       "      <th>6</th>\n",
       "      <td>13b7e618-5002-4ef7-8ea5-4edaa33507ea</td>\n",
       "      <td>1</td>\n",
       "    </tr>\n",
       "    <tr>\n",
       "      <th>7</th>\n",
       "      <td>d4bc7f7d-d2eb-44c1-a6b9-24f456ad8a91</td>\n",
       "      <td>1</td>\n",
       "    </tr>\n",
       "    <tr>\n",
       "      <th>8</th>\n",
       "      <td>563ed369-0236-4edc-a935-d205a0efb137</td>\n",
       "      <td>1</td>\n",
       "    </tr>\n",
       "    <tr>\n",
       "      <th>9</th>\n",
       "      <td>cc0184f7-edae-4414-81bc-f5ecf74942a7</td>\n",
       "      <td>0</td>\n",
       "    </tr>\n",
       "  </tbody>\n",
       "</table>\n",
       "</div>"
      ],
      "text/plain": [
       "                                   name  label\n",
       "0  bee9cf01-3c37-4605-bb49-1695e19882d1      1\n",
       "1  e8064fa6-f6d1-4c57-889b-594fbaeb91c3      1\n",
       "2  a663be20-e30c-40ac-926a-26b64c52457f      1\n",
       "3  9e658b7d-3269-4d2f-8ae7-902f761865d6      1\n",
       "4  7a37b2ff-2400-4f4d-969b-7a98dc43bb65      1\n",
       "5  518814a2-e1c3-48f2-9280-4b256422613d      0\n",
       "6  13b7e618-5002-4ef7-8ea5-4edaa33507ea      1\n",
       "7  d4bc7f7d-d2eb-44c1-a6b9-24f456ad8a91      1\n",
       "8  563ed369-0236-4edc-a935-d205a0efb137      1\n",
       "9  cc0184f7-edae-4414-81bc-f5ecf74942a7      0"
      ]
     },
     "execution_count": 3,
     "metadata": {},
     "output_type": "execute_result"
    }
   ],
   "source": [
    "train_csv=pd.read_csv(\"Data/train.csv\")\n",
    "train_csv.head(10)"
   ]
  },
  {
   "cell_type": "code",
   "execution_count": 4,
   "id": "e0a1c0f8",
   "metadata": {},
   "outputs": [
    {
     "data": {
      "text/plain": [
       "array([1, 0, 2, 3], dtype=int64)"
      ]
     },
     "execution_count": 4,
     "metadata": {},
     "output_type": "execute_result"
    }
   ],
   "source": [
    "train_csv[\"label\"].unique()"
   ]
  },
  {
   "cell_type": "code",
   "execution_count": 5,
   "id": "e5d64ea2",
   "metadata": {},
   "outputs": [],
   "source": [
    "#Preparing Data"
   ]
  },
  {
   "cell_type": "code",
   "execution_count": 6,
   "id": "07cbc3ec",
   "metadata": {},
   "outputs": [
    {
     "data": {
      "text/plain": [
       "['bee9cf01-3c37-4605-bb49-1695e19882d1',\n",
       " 'e8064fa6-f6d1-4c57-889b-594fbaeb91c3',\n",
       " 'a663be20-e30c-40ac-926a-26b64c52457f',\n",
       " '9e658b7d-3269-4d2f-8ae7-902f761865d6',\n",
       " '7a37b2ff-2400-4f4d-969b-7a98dc43bb65',\n",
       " '518814a2-e1c3-48f2-9280-4b256422613d',\n",
       " '13b7e618-5002-4ef7-8ea5-4edaa33507ea',\n",
       " 'd4bc7f7d-d2eb-44c1-a6b9-24f456ad8a91',\n",
       " '563ed369-0236-4edc-a935-d205a0efb137',\n",
       " 'cc0184f7-edae-4414-81bc-f5ecf74942a7',\n",
       " 'e9e78878-f305-4c50-932a-be3ab324d963',\n",
       " '56f38c94-59a2-450b-8fb0-540d64745b9c',\n",
       " '42987857-63de-4a91-8897-8d0f68084755',\n",
       " '89c8ce07-9443-4376-af3d-39025c5c358f',\n",
       " 'e9c826aa-0194-466b-9001-a8f6892e858c',\n",
       " 'b405ebc7-f147-480f-8eb5-86d93932407a',\n",
       " '646fa796-baf6-4adf-be65-5c1f20043570',\n",
       " '4e59e0f8-cfa1-47fc-8e61-59de190125c4',\n",
       " '88d0a01c-d4ab-4d29-9445-e5563179d99a',\n",
       " '12a70d76-4ba5-4250-bb67-1f0e219ee6c9',\n",
       " 'a9a5e336-4d78-4675-bd98-72682fc6ce16',\n",
       " 'de0be623-7c31-4e89-b495-280e2a7945e5',\n",
       " '8b78ee1b-a4e4-4e83-ad05-93cf9b3e05fa',\n",
       " 'cd6e36a6-6fc8-4e1c-b649-d8232fac7076',\n",
       " 'ce676d85-b2ef-4fc5-99d8-432891b7d04f',\n",
       " '5fa8acc1-2d71-4a87-8ede-8d8708be6bc8',\n",
       " '0c5291c9-7d50-432a-805c-24f9e91f5883',\n",
       " 'db658f1c-4fb0-4236-896b-dbcae9e00216',\n",
       " 'a823d54a-6c88-422c-ab8c-4fe1d6afe5d8',\n",
       " '642a2d73-37b4-4dbb-9d3e-c59577437b4a',\n",
       " '49e75949-f64a-4653-8de7-f73ee6c15100',\n",
       " '0d080a6f-bf89-4899-8e8d-02bd18fa5411',\n",
       " '37944174-61f7-4a6f-855e-9628b5b0b415',\n",
       " '83fe51db-1500-45df-aa21-b3874c7e2f9f',\n",
       " '1f26c473-565e-4702-bc6c-778c78b9d3c3',\n",
       " '7ab6837a-2719-43b8-942d-05ac3c8a0fbe',\n",
       " 'ec9bb9d8-9a97-4459-9c57-948f7498fbbe',\n",
       " '363c53c9-367f-4ddd-982d-59c3375d38de',\n",
       " 'f897b07f-7652-46ca-868d-6852c91b1336',\n",
       " 'fb0895d5-7eaa-489c-8a3c-bb4003aaa7b4',\n",
       " 'ea8c8976-6892-49ba-8034-7176bbaaa073',\n",
       " '3d4b3689-dec9-4a26-880e-187e6d818409',\n",
       " '53c19922-be41-4acc-bbea-e5209e8e8280',\n",
       " 'afc95f41-a4d8-4366-ac98-183799988088',\n",
       " '1df62c09-7da2-4a90-bcbb-d2915ecad9d2',\n",
       " '37365092-f69c-412d-ad15-3c1bed1e1734',\n",
       " 'b918c61b-be5d-47a6-996e-2895e445df7c',\n",
       " '332ea30c-c047-4c3e-a335-c9d889d7574e',\n",
       " 'bcad6545-80a3-49da-aaa9-551862a4a0df',\n",
       " 'd888ca24-02ad-43ad-ba18-240d4cdaac3b',\n",
       " '13ae5a70-b30f-4069-a184-1e479b895deb',\n",
       " '0b07ebba-b5c0-43ef-9d4e-88f0792fc46d',\n",
       " '05d90db4-c55b-450a-bc4e-13684b6cd4ea',\n",
       " 'd567b4b3-9eb6-4d54-9560-e4a352032574',\n",
       " '2828808c-878a-4784-a85b-834d75ef7429',\n",
       " '9e6f31da-5c04-474a-bb63-fe5900b02d43',\n",
       " 'ccb55bfe-6538-42c0-af82-834fa8fc2a3d',\n",
       " '5e0f0c63-091c-4371-b7e9-e28c250e2677',\n",
       " 'b2dcbbcd-9cc5-42fa-908e-eda35367b475',\n",
       " '98a2d7b3-7826-4e57-b3b2-6fb1fd0830f2',\n",
       " '91c1e6b2-ef86-4aff-b539-51145638792a',\n",
       " '21af1789-d311-41c1-8f69-5103e37d483d',\n",
       " 'dc9fc761-92dc-45c4-899e-0eb146a84538',\n",
       " '9ea48b62-bb13-47b3-8807-ced20b16189a',\n",
       " 'f357b19e-3934-4c90-8f9f-3f5a929fab1c',\n",
       " '5426a08a-4718-4e84-b600-cf88fbd01454',\n",
       " '9a0f2d55-30ef-430f-bb18-0cb99b9227e9',\n",
       " '19583b0d-9f2d-478a-8661-a25d65632125',\n",
       " '3595ac6c-efb5-49be-a01f-22bda23dc2cb',\n",
       " 'aa05a5c2-e480-4cf4-ba46-1cf2cc16b6f8',\n",
       " '9e102c92-4034-40fa-9a99-a384dafbb05a',\n",
       " 'ea8b94a2-63be-45a1-95b6-254671eed11d',\n",
       " '044ac6d3-2243-472a-9719-cadf15c1ebf4',\n",
       " 'fed849cb-9931-426b-b613-c639ab472c64',\n",
       " 'a3db5090-95fe-4d71-a6fc-f839a185afe4',\n",
       " '2c92822f-e5e4-48e2-ae93-2a3660b1093b',\n",
       " '55678757-913f-4225-8cac-93cd425b832a',\n",
       " 'd5f33dd4-65af-4350-9857-cf4469c2a028',\n",
       " 'cc0dd175-94ba-40b0-becf-ced68c01268c',\n",
       " 'c0eacf31-a58e-4428-abc3-e21ea4105309',\n",
       " '11f8bc45-7d40-4a5d-a8e5-d27f1c2b8b5c',\n",
       " '94ed891d-a6d5-4f6f-add7-8a7f588eab57',\n",
       " '0d30e74c-751f-43c5-b29d-5466ab0950ab',\n",
       " '821074e4-cfac-4ff1-8f01-2189986ea69f',\n",
       " '667379c1-668c-46a4-85a1-9215f3df56d1',\n",
       " '12c339b3-e320-4ae2-b98b-c54d71241077',\n",
       " '23fbf416-dc2c-427a-97a5-7fb03fb4d872',\n",
       " '01d50d22-9157-44c8-ab71-881d7792979b',\n",
       " '13af444d-24c5-4de9-967b-0851008b0a67',\n",
       " 'b525ab86-9f73-4a8d-91d9-263cda02a6e1',\n",
       " '719a81be-1192-4e02-b14c-979eb0ef7359',\n",
       " '78eda077-ee5a-427d-a583-4e64836f7096',\n",
       " '2903ad6d-8c47-4487-822f-de9afb966acf',\n",
       " 'cc17064b-7dc9-4aab-a4fb-e7a51df30bf9',\n",
       " 'ef00243f-5198-4996-8bbf-d00d768c4385',\n",
       " 'ec6c26dd-158b-499a-b0d9-5ebac2c72fe9',\n",
       " '3e28ce88-29f3-4b9f-9ba7-7b413aba36f3',\n",
       " 'b35c6746-dc8d-4ebf-bd85-896c20e42828',\n",
       " '98045789-5d99-4b4e-a5bd-6d82995abb7f',\n",
       " '2c6f54f5-31ac-4fad-ab30-30b5ea0f4453',\n",
       " 'bec68f0f-01ce-4db9-bce3-cecff37a649a',\n",
       " '45f25c6a-1063-42ec-8e59-55e599406b4c',\n",
       " '70e33278-41f1-49d6-8511-e35554562714',\n",
       " '9bc46bad-935a-447a-9132-fc804e7c32bb',\n",
       " '8b9ede44-8b11-458e-ab57-c87c30139265',\n",
       " 'c4cf16ef-fc12-4c9b-b239-eaf8e7b8ac9b',\n",
       " 'f3831c3f-7e9c-4f0a-8f98-ea9b2fe2a968',\n",
       " '3e37c95f-bb11-4d48-9d09-c77ea12a02db',\n",
       " '58e73873-bf88-4a9a-82e5-687a37cc2b65',\n",
       " '69a27760-e20a-4588-8eff-f760b131fb67',\n",
       " '2b648a30-55cb-473e-9f6e-8f69493c3c05',\n",
       " '47d47f0a-5c34-4d2b-812b-6936015417e8',\n",
       " '9c1dfae2-0a7c-445d-817e-d76fc677bfe3',\n",
       " '10e5866e-e354-4dcd-9f3b-15092cb8f95d',\n",
       " 'cf2e86b4-34d7-4463-8695-cfaca939fb77',\n",
       " 'c5fc2bcd-3e35-4a1f-bb68-96d7e3d40c93',\n",
       " 'a47d691e-4091-44c0-a660-6afdbd260dfb',\n",
       " '6282e9c9-7ca5-4a6a-b00f-9313147879b4',\n",
       " 'f4b3976a-656a-4b5b-914a-26c514f2556a',\n",
       " 'ff26b9f3-1f16-4068-bf88-886eb7c44814',\n",
       " 'aa9cc79f-f925-4986-80b5-2f1bac0a072a',\n",
       " '98cac65e-4b5a-41f9-b97d-c6b55b1d690a',\n",
       " '58c9eb24-507b-480e-89c1-ef75b4368bc7',\n",
       " 'a19dc359-3462-4a90-bdc6-94edccbed3f3',\n",
       " '9d3f6577-a010-4b86-bd86-2f60d42b68d5',\n",
       " 'c4b38446-5b5f-4671-8051-7ad141730226',\n",
       " '3a8e3329-f5b9-4763-a7de-c4878ae29e75',\n",
       " '24a22bf3-f6bb-4ae4-88a3-de85e7a275e9',\n",
       " '67a9455a-49dc-4201-9723-e04f06ec64d4',\n",
       " '5d311977-c0ed-4039-ba06-d760fd7c0958',\n",
       " '6e99c4ef-4989-4149-b7db-f0d30b1200e4',\n",
       " '26a1a898-f452-4708-9e75-169cf7eef5a6',\n",
       " '1fe16958-8553-4d85-a754-90f9de93a5a9',\n",
       " '1e1d1782-d4a8-4dee-adf5-b329f3521238',\n",
       " '022b737a-0529-4045-8605-f8706324cf32',\n",
       " 'f5bb43f9-1da0-4f86-9716-750ea1c9e8b2',\n",
       " '8fca8362-b945-4127-95a2-c5205c3be920',\n",
       " 'beb9291f-43e9-49a1-a48b-2f18f9e4aab8',\n",
       " '43f95bc5-71a0-420f-a9c2-e559928cbed7',\n",
       " '147c7f2d-3731-4ddd-9c28-1611825c4892',\n",
       " '2d91df38-4d78-40cf-a7e6-a2c1047d4ce9',\n",
       " '0587bd9f-c3e5-4877-b1aa-c9970d3285a0',\n",
       " 'ef65a3d6-121c-46e7-82a2-04c23918ac30',\n",
       " 'b975c228-b5fa-469e-84db-8ebec0834bd3',\n",
       " 'e1f87be6-d5bd-4f9f-a453-8dffd473ab0a',\n",
       " '819dbde7-1682-45a4-aa18-f53c260d4201',\n",
       " 'e9910fd0-63ef-44bc-b192-114cad93eb53',\n",
       " '0d9cfc84-3a33-469a-a93b-ecae6dd684ab',\n",
       " '7a672727-0406-47a8-ad52-0fc4703d46b4',\n",
       " '591e9630-5a32-4e7a-b131-6b8a874c96d4',\n",
       " '559b00f7-a679-41a2-873e-1039422a6501',\n",
       " '92be952d-aab4-4f8e-a954-84b44346bc69',\n",
       " '7d9d425b-26ce-460c-8f1b-cbf030c0a7ca',\n",
       " 'a1298509-7557-490c-9740-294b8bbdfd60',\n",
       " '519484c8-dc5d-4edf-8b53-d77c21bdb7e5',\n",
       " 'dd252473-7956-4f25-b729-b7afe0e0a088',\n",
       " '10240cfe-0406-4ecb-ad24-81528e7d4cb2',\n",
       " 'cd6ff428-d06d-4234-906a-873ba4eb1603',\n",
       " 'fdced845-faae-4e76-94e6-ccab2e1d66e5',\n",
       " 'f12f060d-37a1-4267-ad2c-6f8994041141',\n",
       " '1c7336e6-8668-4aa2-a0ea-29df73e6f1da',\n",
       " 'ab495bc1-1f7a-4c3a-b5f6-37ec6a3c8bdc',\n",
       " 'af62dc38-1186-4ac9-9ea2-5ea06b8f9e86',\n",
       " '1bfe2872-5786-4cd0-b03f-42c294e9b0e5',\n",
       " 'f1180816-6dcc-43cd-9f33-5d12bab4df7d',\n",
       " 'b651048f-8614-42b7-8c33-04787d7a0dc7',\n",
       " '6cefab08-9e64-4688-8063-db56f3112c26',\n",
       " 'b22d4341-33e8-4c83-a455-355b8360856d',\n",
       " '968bba64-675e-4b05-b631-c608037b31df',\n",
       " 'f1c6707b-875b-4c8f-94f9-92f68bfc88b6',\n",
       " 'cbf96450-2b7b-472e-831b-7ffbe1e25045',\n",
       " '80ba659d-f087-4a28-a632-4d35cd096c33',\n",
       " '433dfa7d-0f09-4ba7-ad70-ffd9c41e6f19',\n",
       " '9818d4b1-5b7c-4a01-b5ee-3ee77d07b0da',\n",
       " '4b7fd4a7-1ad8-43a3-a2ea-01b730215130',\n",
       " 'b2bdc08e-9d6b-49ee-a7c8-29321d8f43f8',\n",
       " '6aa816c2-f03f-4c1a-a45c-7c56ed6a4eaf',\n",
       " 'ed8d4326-f86c-461e-abe0-fd376f4b6c13',\n",
       " '65517387-2fce-4189-8917-9fd5b1f3ad26',\n",
       " 'b9e39c63-f881-41b2-a298-2822bb5f2f1e',\n",
       " '4f72263b-9dfa-441e-be2a-4c884299315e',\n",
       " '1396fa6c-bb6a-4d0d-bbb8-d9285786c86c',\n",
       " '172bec04-c7fe-4a9d-b658-76dd5cb10c7d',\n",
       " 'e75f7143-2067-4797-9d54-69e3808d7611',\n",
       " '453be565-1f2b-40ec-bb60-9ce7f0217dec',\n",
       " 'e253bbbb-6f95-41d9-b8c9-42a31a018a17',\n",
       " '8ed98add-7357-4030-a52b-4cd9ac4f4c6e',\n",
       " '19323c3e-7817-48a1-aebd-c2d234b5fe76',\n",
       " 'ab26abe3-1823-48fd-bcf9-09d1204a7820',\n",
       " '40e99ff6-2047-4c68-8f52-3cf265e42143',\n",
       " '0f32cc4d-979e-45f2-8510-a44d03461c99',\n",
       " '39f5e1f1-7d51-4cba-b596-5ccb9afaf53c',\n",
       " 'd3b936de-24af-4258-9f6f-a84f03934aff',\n",
       " 'd85757a3-6491-446e-9af2-c03001143dac',\n",
       " 'd36f1f9b-c8a4-40b0-92b1-81392d7eb522',\n",
       " '5c159ea4-6761-4a6a-9528-48b4f0270111',\n",
       " 'c08697d5-7bb4-4aff-9b06-2494fc5cc141',\n",
       " '4781cdd3-386d-4a03-8e63-df16f6b2e2c3',\n",
       " 'ed6b2f53-29dc-4d62-bae1-270f9d3012d6',\n",
       " '11ee3afe-d231-4d01-a1a6-4a53d2933dec',\n",
       " 'e597e86e-1bd1-42fc-adac-31aea214591b',\n",
       " '35b28c59-cbea-40e1-9f54-fc611a020fee',\n",
       " '4b1f00fb-0b17-4fe8-b2d3-2c32e20d3fad',\n",
       " '5f6c770b-7c7a-46ff-8e53-96d9ec985d0d',\n",
       " '5db53df2-ce29-4a0e-b63c-92a4575a6155',\n",
       " 'bae45742-1482-4e19-b158-d73c3590a96b',\n",
       " 'e62a8214-1ea8-426d-acfa-76edc57f4f9c',\n",
       " '336d0687-90b3-4aca-9239-c91beda265db',\n",
       " '4b4a4366-51c2-4ea5-b0b1-72bf3802af81',\n",
       " 'ac4ec92f-2502-4efd-b661-31529a290b1d',\n",
       " 'a8c31533-33fa-4eb6-97e7-8d31e83e6b37',\n",
       " '7e35a226-cc29-47c5-9df8-9ce68cfc7ad6',\n",
       " 'b16fe5a2-f2e5-4166-b135-01041488020f',\n",
       " 'e6d542f3-9032-48a1-b6c7-192811cd14d6',\n",
       " 'f3cf8863-0739-4b7e-9e2d-b1901245d713',\n",
       " '5c648a00-c9e3-4aef-8d7b-70d98162a222',\n",
       " '0af9f3ae-33b9-4e21-ab42-7bb41051ff88',\n",
       " '1bc62684-2dce-4204-8e92-9fbcf93711be',\n",
       " '27847b7a-d7b1-4e53-916e-dba847021d16',\n",
       " '5cb2cd2f-c331-49b7-8deb-cad6fa9b2547',\n",
       " '84187ab2-02a4-4f2c-973a-8c194a41662a',\n",
       " '9c2805a8-252f-4a63-b4d2-2cbbf9a9578c',\n",
       " '59981b5c-2e31-475e-b3df-aa9989c7f262',\n",
       " '2a25471a-211b-41e0-b5af-3b0c9546da5c',\n",
       " 'd970b772-fc0f-4846-9c52-7f9aa87272ab',\n",
       " 'af0ea80e-8769-4cdd-976e-72489bca22db',\n",
       " '049e5d45-c1ef-4d42-8e82-e5e63167a67f',\n",
       " '933d4186-906b-4839-b69a-55db55f76ab4',\n",
       " 'cfca8293-1ec1-411c-bed0-ab43a27d4ddc',\n",
       " '520e0623-1793-4eeb-b4ce-862c093ba975',\n",
       " '2000c838-d83b-4442-9c4a-aaeb27671c94',\n",
       " '863d3ce4-5eea-42a6-a129-3331325d49da',\n",
       " '829f5c5a-d8ab-4a70-85c5-97dc817f3262',\n",
       " '962f6c86-921d-4fde-93a1-622ba858ddee',\n",
       " '6dc44659-a5d4-4e1a-8aee-4d801dbabe5a',\n",
       " '64905850-7c79-4eca-aa22-895097f5d962',\n",
       " 'de8ee743-c9e2-4ad3-990b-61a36d12a371',\n",
       " 'bd9d18a7-231a-48ce-b0c5-19e4edec13ed',\n",
       " '6429ecd1-e6f8-49c4-8273-05266166ce8e',\n",
       " '24cd9301-3eb7-4e31-bc4c-6e9cee0e5024',\n",
       " '95b890e7-1209-444b-931a-f9b38d8e94b9',\n",
       " '2c33ae4e-9d8c-42fe-a70f-6e35b3f07f77',\n",
       " 'fbee2c09-ca1c-4d9d-bd0f-e68ee9cf0ef5',\n",
       " '6e687002-d624-42bd-ade9-0467c6b7f367',\n",
       " '373f1e48-a68a-40e5-bfb5-f5815359ba7c',\n",
       " '45a58e42-d791-4643-a7b9-1d8e25606510',\n",
       " 'c322fba2-8e36-47f2-b725-861bb2bb4cd5',\n",
       " '973babd3-d21d-4877-aa35-7a4769121545',\n",
       " '0a3b9f0e-6a8d-48a1-917a-dd86576969db',\n",
       " '92afde8e-4ae8-457e-beb4-f73f7bf10485',\n",
       " '94abf662-1309-4aec-866c-6065aa5199dd',\n",
       " '1796826f-849a-4c10-8dfc-8866bac72a26',\n",
       " 'c7275c39-f8da-474e-b4b2-d6b3fb14b0fb',\n",
       " '9a318b5c-5f1f-401a-a68f-d935f1917171',\n",
       " '65c6c227-ee72-41c9-be11-5fd82fb770bf',\n",
       " 'b859a827-27cd-4c16-be68-785c5b16da7e',\n",
       " '8ede1551-ccb7-49c4-b11f-e24010a9f155',\n",
       " '8559a69f-bf07-40e1-8806-ff8b08fc77e5',\n",
       " '1935bf36-6ca7-431d-a2d2-6ba64e79aece',\n",
       " '9e6644c5-a95d-4467-9b0b-c73171d9b674',\n",
       " '9c15d663-7acf-4b7e-a7f6-61681edaac95',\n",
       " '78dcfc83-e0eb-482a-a276-cc407b433702',\n",
       " '3a2f49e4-72f7-4744-9e73-5d3278116b03',\n",
       " '272b419c-1361-4700-abc4-bfa215bb3f78',\n",
       " 'be0f45c4-4cd9-4515-ad5f-ad9a432d0820',\n",
       " '47dd1fbf-25fc-4c84-a8e4-05e1ef4690f1',\n",
       " '00ec1ecc-6097-4e18-9fa3-f9af11f4135b',\n",
       " '04a1083d-9786-4695-9949-f4bd5059ff03',\n",
       " '9fa2ae34-564d-436d-b562-cf1edbbb9e0b',\n",
       " '858cb741-d83a-4204-b6d9-66ddfdb39c9b',\n",
       " '05b61f10-b362-4e63-859c-cf0b8c3bd751',\n",
       " '915465d3-b590-4966-96ab-3255c9ff283d',\n",
       " 'df096584-e176-4ee3-b254-19070bd14549',\n",
       " 'd6f081d5-35be-4c00-b95b-9f31b5706b68',\n",
       " '8b595fc6-f86b-4fe0-b810-2d80c70c6b8b',\n",
       " '7b419220-20b6-4431-a53a-dc996fc12c07',\n",
       " '2b346d97-ba7f-422e-979b-b8e8f28199f4',\n",
       " '62b178b4-4b3e-4d7c-9ec0-760ab0ce7a40',\n",
       " '682f4124-af24-4ed6-ad3e-71a0f7e12ae4',\n",
       " 'ec3873b4-65c3-4bd3-ac6d-f016278e8449',\n",
       " '0ff227c5-82c8-44e9-8cd2-2ea100e353f3',\n",
       " '505140fd-c0cd-4dc0-aa23-cf831095f3dd',\n",
       " 'bb3a6f4f-ac8a-4684-ba8b-9a2c9872ba51',\n",
       " '30567a35-8455-408b-809f-4747c9cd941e',\n",
       " '624aea5f-fa2b-4531-a3c5-fd240e84489d',\n",
       " '6a983e0b-e428-4e55-878d-7785a373e85e',\n",
       " 'd87c3563-b057-4652-a377-4840ba49856d',\n",
       " '219e9584-998d-472c-9748-940585703bee',\n",
       " '9864e86a-31c1-4f13-bedc-2dda5696f1ab',\n",
       " '01539646-dea7-4294-9a05-6b1d34af922f',\n",
       " '38bea0fc-4a2b-4dc5-a30a-0c240f899ff5',\n",
       " '62262d69-1e92-416f-9b00-92cc408580f4',\n",
       " '1bb547c6-e670-41b6-bf4f-073ee716357d',\n",
       " '5c3db38c-4bfe-411e-8aa7-e32d72b2e690',\n",
       " '76d41dc5-e7a2-4352-bf00-133cc1b96295',\n",
       " 'd61588c8-ca37-4c51-b5bc-6966eea23bf7',\n",
       " '710eb302-9ea1-4c83-8db3-620c1704ab67',\n",
       " '00a76d41-1b93-4c8e-8d4c-2cbbac9c5331',\n",
       " '62bfef60-5a93-413c-b696-73c0634360b8',\n",
       " 'aef57dea-fc7b-4416-8369-6dd8f910e73b',\n",
       " '6c9f78a2-bfa3-4397-9f75-05523cb109d5',\n",
       " 'ca63fbcc-a634-4f92-8c6b-7a6bf7b81279',\n",
       " '6acdf1d8-9b1e-4f6d-827e-4594b0f5c0fc',\n",
       " '2a544cac-d9ce-4c11-8279-0dc02a753801',\n",
       " '64babda6-cb3b-4819-a5a1-ae432aa648d0',\n",
       " 'f2e61ec5-ad24-4715-a0c7-f3a38a8e978f',\n",
       " 'aa9199b9-637e-47cf-9fcc-5002d7ccec21',\n",
       " 'c162763f-59bc-4b27-83b9-c8d7905fd882',\n",
       " '7ba434c7-58ac-4dca-8357-64a2baf38bde',\n",
       " '5b86779b-55fc-471d-b3b0-39b1804626cc',\n",
       " '270e4ced-edd7-46cf-942f-b92ac461848e',\n",
       " '7d9ae1e9-61e4-446f-8208-d4665dd9689f',\n",
       " '45d6f702-bc7c-495c-b4b7-dd8375ca0292',\n",
       " '53891623-e852-4ad9-ab7e-0eb0f6715736',\n",
       " 'd50e30da-b919-4d61-8158-d5ca677de67f',\n",
       " 'ec613e59-9f0f-4065-a8f9-059160b0cba1',\n",
       " '54ac5d65-cc56-42e8-988b-f633cb4111d9',\n",
       " '6b664be7-1ca4-4c04-9519-6fdfc49530cf',\n",
       " 'ce46b4aa-a491-4ead-9b41-26860fd000d1',\n",
       " 'c18c9581-65ef-4409-aa1b-7873f785ca6d',\n",
       " 'dd67944b-58bc-40ac-a388-071a83b691de',\n",
       " '06cdcbd1-0af3-4573-9c0b-3e41feb1ba43',\n",
       " '123ce31e-bec9-4562-9174-011f512d1a48',\n",
       " '3308781b-839f-4500-8d60-32b794aa51f4',\n",
       " '54b8048c-0454-4559-b4f2-eb69ef7332b9',\n",
       " 'c9909c8d-c4da-4816-b0a4-bc7634107dc0',\n",
       " '71401694-8ccf-4e8d-813f-d5f126e3816e',\n",
       " '7c4e9705-7db1-4363-88ed-e4d01e5d4cd1',\n",
       " '2a0677d8-8880-4185-bb22-2111bbe702cf',\n",
       " 'eb49d9ed-de37-4fa9-999a-2496cb952c38',\n",
       " 'f3f77a40-880c-44ab-bd88-7924e0a03e93',\n",
       " 'da7b32e2-2337-4a49-a745-84e071bc9a0e',\n",
       " 'ac578724-adac-47c8-b375-f51d3c206101',\n",
       " 'ce4eb30b-6385-4bd3-9077-a48b7c147790',\n",
       " '281efde1-49d6-4659-bf51-c5f58156d340',\n",
       " 'a7f26b50-ad6a-41be-a302-3c73e8972436',\n",
       " '8e7b2ad9-6096-40f9-afbe-9a3bf1396058',\n",
       " '248fbb10-1435-4b1e-b1e1-eac201fa0259',\n",
       " '99e32e91-b6c7-4105-a7e9-66fe87649e20',\n",
       " 'ac3a91f3-bf40-4456-a429-b4f1ab5dc1f8',\n",
       " '25c5751c-270a-4757-917f-04da459a3eaf',\n",
       " '658132d4-ce1c-4beb-879e-e8de68ce15b3',\n",
       " 'a2052af9-e85e-4907-83ad-34b8a2eeec85',\n",
       " '5a90ba93-d54c-4bbd-ba07-c53c7167cab7',\n",
       " '21fff2ea-7031-45ef-9c19-a6e0627cd44b',\n",
       " 'ffdf7be3-cccf-4fd6-ac04-9613ef553e81',\n",
       " 'd4c76f9d-b0d2-4bb4-8192-80c55798a074',\n",
       " '6fcee433-1731-4a70-8d71-115e3da868e3',\n",
       " 'c95f7b2b-03de-428e-889a-5c63b1069838',\n",
       " 'ad9e6b28-5ae9-4282-9215-6c3e2bc3be5b',\n",
       " '8799e338-5398-47ac-8fcf-f8b5623dbde9',\n",
       " '2782b4c2-8392-48dd-9c0b-b40f8b9aea6b',\n",
       " '8f019053-eb68-46e9-a8fe-905fb61b8d7f',\n",
       " '1e1dca6c-7e75-4c51-9e91-39bc04b235da',\n",
       " 'ecc3605e-0df3-4009-91e5-e4402871d5c7',\n",
       " '91d75e95-826b-4a7c-b2b3-c83a1825e44d',\n",
       " '2d5910f2-1c0c-460b-a994-86e2a0ff07d9',\n",
       " '572dee9c-a11c-4840-b94f-6268a652e92d',\n",
       " '66cb4290-9986-4121-8fac-dc3c000ad550',\n",
       " '58c00748-252e-4f93-9341-8bbe5e00988b',\n",
       " '7ba23a01-79de-40ee-a106-483b76a4f23b',\n",
       " '1321fbd0-2999-4662-bd48-4acb08f11d4e',\n",
       " 'd4580f18-3a43-41f6-ad0b-c5fb6d148432',\n",
       " 'ac212626-d043-4d6b-b34b-0c9ebb32f6be',\n",
       " '9ab0db07-8483-4405-9ca4-0cdbdc534aa3',\n",
       " '592ae098-78cf-4e61-b7c0-2256c828be93',\n",
       " '7801a01b-57dc-4b3d-9b59-876dbcca76c0',\n",
       " 'b30a73e4-62c0-4ac0-aa73-60d9989c5c18',\n",
       " '5aa11ad6-8cf6-464a-a226-7f4a1cf2f701',\n",
       " '6af8f93e-c940-47ae-a183-00d692c47be3',\n",
       " '899e17f0-c4b9-483e-b008-597af7fbb9be',\n",
       " 'e5cb1536-6b40-4fc3-b81f-612598b7387b',\n",
       " '98da53ba-ea95-4912-a0ad-52d2e07fe869',\n",
       " 'fb898381-04c5-4a4c-81c1-59a01681ccbc',\n",
       " '31d66c34-9a14-4f8f-a556-6ee06f7875d4',\n",
       " 'de331872-8f13-4912-82df-a69ee6a2498c',\n",
       " '29a33135-ee42-42f4-968c-edfb4edd030f',\n",
       " '6e4bb908-17f1-4b87-9e38-b772029bf905',\n",
       " '819d9fe4-99fc-45f4-9c3e-989597b476e8',\n",
       " '4ce16cd2-4ea1-4103-a2fd-e6515e4bb83b',\n",
       " 'cfe9bc8a-c61c-4e52-bb04-ccc03e76570b',\n",
       " '370b4b93-d979-4b01-8338-343e1cdbbcc6',\n",
       " '9f3a4c26-b19b-4772-aeb2-7c8a87e90cbb',\n",
       " '71d977ee-17cf-4d5e-9d85-4a868e5da990',\n",
       " 'd3a01091-223c-4c66-811a-4f158552cd96',\n",
       " 'af630c8c-c43b-4058-8340-a78bd87841af',\n",
       " '7fca2ea9-ba49-4dd2-966b-6c13669a9858',\n",
       " 'b5ba12d8-f595-4331-bdb8-20e5799836ec',\n",
       " '5f323975-caeb-4571-8ec6-07f31b707729',\n",
       " '27d666a5-dc7e-4baf-a9af-9e44f18daab0',\n",
       " '72029796-4b07-4d8c-aff2-3ab887943e7d',\n",
       " 'bbccc382-e355-4bdf-93e9-533cf1baac06',\n",
       " '2fcd9ad0-e35f-4123-84dd-c27ef707bf4e',\n",
       " 'f1eb7f6c-cb8d-4c3f-9809-0a7ee76e050e',\n",
       " '7b9b7401-1d29-4149-817b-eef4b8f3a370',\n",
       " '88449a8e-b45c-4f30-a1a2-c458cade2b3c',\n",
       " '345ba3f3-b6d6-4fce-9142-1e3c258902cb',\n",
       " '2a072787-01c1-4703-8fef-fd67d287068f',\n",
       " '42a049f0-9a12-4b5f-9e8a-c82407dffc58',\n",
       " '47b1eebf-d48f-4fb7-b62c-65ee5ca94840',\n",
       " 'd8f81beb-e0cc-4d74-b482-1c23054e77aa',\n",
       " '029d4bb5-902e-4744-a002-60cc3e917fc6',\n",
       " '749aaf31-784e-451e-9e5c-2021d688f425',\n",
       " 'e6a8973d-7aa7-432c-b1c9-f0f5ffa2f0eb',\n",
       " '7f3d59cb-5220-4043-b5d9-965e1301a686',\n",
       " 'f3aca243-36c6-413f-9dc9-70e8654d5cb6',\n",
       " '7301cdb5-3d79-43e2-a2ad-8bf383ca23bd',\n",
       " '7fec40b0-34ea-462e-9d91-a11eec824c29',\n",
       " '19f4987f-a6d0-4f53-86c4-2892334740ce',\n",
       " '973e6043-4683-4281-b35b-b04d66fcb554',\n",
       " '20d1a89c-b007-429d-8ff0-3b2855e1921c',\n",
       " '1a60ae5a-0285-4f25-b228-cbaf01fb62e4',\n",
       " 'c39ddada-a0db-42c2-9d47-f7b3340cfe16',\n",
       " 'f0556629-c139-49a0-b839-f7b01a95d129',\n",
       " '5a1221cc-d3fa-44dd-8cce-ca58f1970dbb',\n",
       " '08ca74c2-cd1c-4dc4-9cde-a7a8cf726cbc',\n",
       " '94949e65-5636-4e5b-a60a-fdd6fd632841',\n",
       " '37b27141-4478-4c9c-bb4d-3daf0929b9b1',\n",
       " 'a53c722c-d4ce-415b-b4c3-3eeaddfcf236',\n",
       " '0caba745-2758-4073-909b-7e5439ed8c74',\n",
       " '246e77be-d940-47cb-b9de-adab0d0cff90',\n",
       " 'e3e177e4-9fb0-46da-832c-fae5467b72e5',\n",
       " '6fa950d0-291d-43a2-86dc-7982b31c5cc5',\n",
       " 'd3058438-60aa-49b2-bf85-a4aa3d7c4cb9',\n",
       " '2c57782e-0f94-473e-a25e-b98124a6d6f8',\n",
       " '11b19329-48d1-473f-ad3f-705f45d00502',\n",
       " 'ef3bf0cc-8b24-4832-8f1a-491e0c4ea323',\n",
       " '88ed1ecd-3355-4e26-a3cc-9af7a3548dae',\n",
       " '352d5d8c-6a18-4522-935a-2ba6593fef84',\n",
       " '056ca360-20f0-471b-b191-7895ed24864e',\n",
       " 'ea4accca-0825-42c8-a004-91c7c829baac',\n",
       " 'e1ed9028-dd8d-4c31-99ee-b462f128e4d0',\n",
       " 'a89a6e8d-b4fc-4158-900a-5815abda0381',\n",
       " '5b676860-4e75-49f8-ad4a-601161640d30',\n",
       " '1a51dd94-9883-4c8e-9811-35ec6304706c',\n",
       " '474ef628-f851-4769-9c85-20b4e6ae9842',\n",
       " '1b672848-8bc6-4128-9461-4502db60480d',\n",
       " '27e7abf0-620d-4b3a-a528-3201f5b465bf',\n",
       " '3a8aed80-771c-4984-827a-d5bcfbb408f5',\n",
       " '8fd71118-1f4a-424d-8916-e086743f4991',\n",
       " '4dc2130c-c4a0-4789-aeab-44638d1fde1f',\n",
       " '49880c8d-3b66-43c7-be19-aa79b4dbcd24',\n",
       " 'c70ffb2a-05c7-4491-b944-571ee971931d',\n",
       " 'a57d09bb-9028-4f1e-b667-84c829f70f23',\n",
       " 'a88b7450-0cbf-4355-8caa-97275e5f6013',\n",
       " 'a7dc8758-109a-42d9-b2dc-cd52ec471ea8',\n",
       " '3a71e116-215b-4b92-b7d5-d9c41f4c04c0',\n",
       " '21c8bbeb-336d-4ef4-8c06-b0aee6a9edcd',\n",
       " '2b52c042-794a-47a7-804a-d6d6bf1e349e',\n",
       " 'd0f3b18c-4955-48ad-903b-1c27b84db5e5',\n",
       " '6c2ca561-1919-4e2e-aa30-7b22c591d98e',\n",
       " '77a9166c-4abf-41db-8576-6731dc3e9c68',\n",
       " '30ce0234-87e2-4ca6-b037-cd1d0b57bb1f',\n",
       " '03dbad97-6c63-461d-b008-f3c68b7dfe63',\n",
       " '9ab9f8df-79a7-4d7a-b216-e0c347ba5398',\n",
       " '7d9ce34b-7a67-4378-91a3-94047b8544c3',\n",
       " '3b7ad824-2225-4c45-a4d1-ad8e573ff402',\n",
       " 'e3c0bed8-046b-4cc7-9c16-e55b250a13b5',\n",
       " '8b592a6a-543c-4da2-a1fb-8db8fce23219',\n",
       " 'eca65b88-237a-49cd-adf4-d23309c0b8d8',\n",
       " '24d874aa-671e-4f7d-ba7f-fdcea68532d4',\n",
       " '2c1724b8-44fc-4f28-8349-5d5ce7e75bbe',\n",
       " '03e90fb3-2e29-4a28-8707-6ea70f53af14',\n",
       " 'e8891457-fba9-4dda-a123-898bec372ac3',\n",
       " '1c20d05c-e6e1-4044-8d58-c3ecb4e8cf89',\n",
       " 'e51f55c1-8eee-47da-b46f-cd540dd4f101',\n",
       " '1b5f57c3-6c73-45b4-8017-328387c36f60',\n",
       " 'eac63299-0fc6-49db-8f03-6ffd24e7b23a',\n",
       " '34072a6d-b95e-41d2-91d6-96c491a63d26',\n",
       " '5f995fc0-bb9a-46a4-ae48-d237731e5fb3',\n",
       " '7323536b-0636-4682-96f8-404534b2b8f3',\n",
       " '4b24f699-7f5a-4d2c-b56f-bf960cd0f885',\n",
       " '4eef304e-0e03-4d22-8d29-58f884b0b285',\n",
       " 'abfa0c26-ba3b-481c-8004-345bccd9af3b',\n",
       " 'f33bbc3f-f1e5-4e03-b9ee-d53e93c8e541',\n",
       " '12dd66f7-78ce-4087-bf6d-7b0e0eb44387',\n",
       " '3f9c3934-4c08-41f5-86e2-469b1cd7f427',\n",
       " 'b266f221-c996-4275-b8f4-2cbe6b90d77d',\n",
       " '76f229c5-fcd2-4906-90c2-5fc82fd1973b',\n",
       " '1e379840-2ac7-47ae-aae5-767a80a87284',\n",
       " '2138e25e-31f9-4861-99e0-c5bc6796ad17',\n",
       " '433f43a2-9809-4101-86df-668e78fece54',\n",
       " '9c6d3dcb-9a29-4b5f-ba5e-62a92ec506bc',\n",
       " '8b38dcfc-cd87-4052-a296-a29dd1bc3f8e',\n",
       " '71b537da-a05d-47e9-a167-69fe07e856ce',\n",
       " '4e63cc99-382c-418e-856c-fe4b76d7408a',\n",
       " 'c179a905-a80f-4e9b-8633-d9f2615e22ad',\n",
       " '124505ab-e6e7-4845-a224-e4c3b90673c5',\n",
       " 'a29df8fd-8445-4118-bdb2-2c9fae1e93c9',\n",
       " '0942aff7-c69f-4ade-897b-446ad20e2d47',\n",
       " '04a3ee40-f66b-4d56-97dc-d6fea56a5d4a',\n",
       " 'ca2e3f52-6f4c-432b-80ab-c61cff235cd6',\n",
       " '52d998ae-6068-42b4-8133-1cd3f86e8c1f',\n",
       " 'ab818161-823b-4bc0-913c-6aa1b20386a5',\n",
       " '49156cab-ccdb-4e76-8d2f-753c8214bfed',\n",
       " 'b4103b5e-057b-4278-a904-c19f5d95bfbd',\n",
       " '22e94eca-3a83-41a6-9b56-64bdfd84dfa0',\n",
       " '4d02755f-d6f3-40a3-b480-47435c51db8e',\n",
       " '08d9e771-2691-471d-902a-e3b28a6162d5',\n",
       " '57428f17-eb61-4bba-b568-78b13e02507f',\n",
       " 'c7180247-852c-4ba3-bfa0-1876c4d3135f',\n",
       " 'ca563baf-112f-431a-b884-d6176b7efb92',\n",
       " '688380ca-3500-47f6-a257-017b5ade4b69',\n",
       " 'fd99d04c-660c-4588-8c77-1912e78fff8c',\n",
       " '3ddca0c4-ffaf-462c-baba-52e26e8d17d6',\n",
       " 'e6682f31-3667-4c5f-af88-f102c970173b',\n",
       " '5f69ff6d-2e70-42b8-b90a-8a8a1e2da4d2',\n",
       " '17ffe495-aa1c-431a-8630-a58980eddc78',\n",
       " '8bc996ae-2005-4698-975b-c8dd1bdbbea9',\n",
       " '03a4dbc4-23cd-43a2-8efb-5535de6eeaee',\n",
       " '54bb7f0a-6468-4c94-9009-dcc5271d904c',\n",
       " 'a39d8415-8f52-48ec-8a93-787b64e032e1',\n",
       " 'dea4a9c1-adf7-4183-9d6d-024b5254c712',\n",
       " 'c8cbd5b8-e6c2-4f77-887f-3506a4e40c46',\n",
       " '468b3de5-091f-496c-8f1e-84c61af5633e',\n",
       " '7aba5f27-6ddd-494c-98f4-e93575dfdbe3',\n",
       " '78caa18d-2037-42a9-a029-ca8f604c5383',\n",
       " 'aa36ad72-5793-45d6-a0fa-bf61ca5e932a',\n",
       " 'dccfee2f-99fe-48a9-80ae-5b3f4cf7bcc2',\n",
       " '4d66778f-b187-478a-ae48-bac25cafb0cf',\n",
       " '6b51b432-fd03-4385-bee5-f63ed15dfed7',\n",
       " '67963405-3ffd-4250-b616-36c3e11b4336',\n",
       " 'f2d47cea-fb43-4a63-883f-1c329b241e4b',\n",
       " 'e371c8ff-b5a8-4ab0-ab9e-04de6579dc12',\n",
       " 'a7778d99-5910-4372-b8dd-245baee79a92',\n",
       " '2dd99f87-2984-4603-82fd-7694193aa300',\n",
       " '7460d510-3eb4-45e3-8ee7-dc695e31d357',\n",
       " 'bbf845eb-a99b-464c-97cb-079f8ccd6c32',\n",
       " 'ab3da5e0-64cb-482f-9429-d69b793388ff',\n",
       " '680d866b-756b-43fb-ae2e-8956b4f10263',\n",
       " '4f323740-4ba9-4e26-9b2b-48b8d68f759c',\n",
       " 'd8abd5d3-0f3e-4d9a-a2df-f8a0ef904b1e',\n",
       " 'ae95dbdf-cc4d-475e-84be-68eee14a111b',\n",
       " '7b7024e7-7cfa-4636-b01a-07dbcf30c8c2',\n",
       " '4f8d0a59-c785-4a3a-a982-1d900b58a92a',\n",
       " '247bd9e7-c152-4d38-ad80-3797d803faeb',\n",
       " '32156c4c-a677-47c3-bf05-92197491a067',\n",
       " 'b936bfe9-4b25-4315-bfa2-e874aed6b83c',\n",
       " '71a42ab0-8bb0-4d98-b2d2-2085d2d5f027',\n",
       " '34c642c4-5db9-4bae-a473-97ff762f77ae',\n",
       " 'ef1a7c7d-1999-46a0-b6ed-502bc3639425',\n",
       " 'f22b952f-1e86-41ab-aab8-ce83011b339f',\n",
       " '8917300f-d549-4a4c-b50a-5a9b23531734',\n",
       " 'c663c33e-c01b-4f56-968a-6a815b714a6c',\n",
       " '0c013670-4adf-4290-bb57-18527ea36562',\n",
       " '3516d9d3-564b-4ea5-b1be-ae31683d44cb',\n",
       " '6a53a72e-a1c9-4a90-a5ba-853731bfc8e1',\n",
       " '61343d28-29f2-4517-aaa4-e151eae70fd4',\n",
       " 'd74a6d4a-7d1b-4fb3-816f-0b857f23ab78',\n",
       " '5675d896-1237-4202-8cb6-f244ae8002a3',\n",
       " '23a6d6ed-57da-429d-97ec-a145eea01a09',\n",
       " 'd0a75563-5fc3-4eb0-a8b3-191c67021c56',\n",
       " 'd970b2d2-ea2b-485a-9915-910a64da0a36',\n",
       " 'cb9359a2-e94c-4b92-a34c-4e4036368f3f',\n",
       " '026a0d75-f412-4e94-bcdc-b17baca0cb16',\n",
       " '12ae7891-c51f-4b58-b79e-47bd90e45c65',\n",
       " '57ba0eb0-9a86-460c-94e6-de8df955bc5b',\n",
       " '605588f2-11da-4200-a477-943525240885',\n",
       " '9d407116-b0ed-4c86-a137-dab5084addae',\n",
       " 'ab0cfb83-5469-4adc-8a2c-c8a21053db98',\n",
       " 'a6d0e7bf-68f5-4d19-974f-c20b11fe885f',\n",
       " 'b9555d96-c0df-46ef-aa27-5001a01c54e8',\n",
       " '6a7c3eeb-7e2a-4534-b29f-185bf3096ff1',\n",
       " '2c974597-bd69-45bc-93e0-1ee7616120ff',\n",
       " '6d0a5408-f14b-4a1e-b02e-fe625380f0c4',\n",
       " '2c4662dc-63cc-4e67-84fa-0294c3a15ca2',\n",
       " 'e0f482eb-a528-4d01-8213-a2dac0c5ac83',\n",
       " 'c0162f19-5435-4e41-bbb1-d06bf3b1eea8',\n",
       " '378022d6-1833-4694-837a-8490a211c161',\n",
       " 'eff0479e-7386-4216-a607-e0c8a0dfda13',\n",
       " 'c67ede28-0618-4f20-a2b1-d37fa7433154',\n",
       " '3709ef6b-e5d1-4ab4-a909-ec15e7bfbdff',\n",
       " '2345709a-f48a-4950-a4e2-cf6dfc9b4359',\n",
       " '8f790f90-0ba3-4327-89e4-260644c1032d',\n",
       " '9acd5cdd-72eb-45fa-b648-c864a4398598',\n",
       " '1612f7f5-238d-4886-90fd-4ab35d9846ef',\n",
       " 'c424e426-18d1-457d-b060-ef839b497419',\n",
       " 'a4fff76d-c2a9-4aa4-b86c-499edf5cf3f5',\n",
       " '4a981a51-3b45-4a05-acac-8d07d8b7e078',\n",
       " 'e7227338-23ee-4eb3-8d25-032629d3639b',\n",
       " '271b2ca3-4328-4314-a833-14b7c42adbe4',\n",
       " 'ec488cc8-e096-469f-b560-b3cfd694a4a0',\n",
       " '35da3d5a-3ead-4b40-88b1-68a7e1a1d364',\n",
       " 'fa22cfd5-7e11-422f-a319-fe67a078cd4f',\n",
       " '427914a5-3c1d-4615-9e8f-cbdd1b979372',\n",
       " '8e84fc89-eec5-4154-9395-11ac605fa72f',\n",
       " 'aad34f27-3a17-4f61-a5ec-36f859067b7f',\n",
       " '1206201f-2852-44b3-8f90-c5034c0ca309',\n",
       " '05c83848-53a9-4e2b-9920-95887e3002d2',\n",
       " '51cd4758-ae19-4d95-b9dc-991dbdadf17d',\n",
       " 'f3a55579-9e62-4a64-999e-873d33783c79',\n",
       " 'cae8f200-ac8b-4bee-a991-c33fca457e6a',\n",
       " '9e17cfc8-c9f2-4519-ba2f-c695912e748d',\n",
       " '88f5d605-1f58-48e3-9af5-52aeb4b20ee0',\n",
       " 'edccd63c-1dd6-4621-9841-8ccb7f27ee17',\n",
       " 'a69ad12c-b795-4e59-85fd-b6463ea6a17b',\n",
       " '345a3900-9e2c-4bd6-8da1-62bf7608b43d',\n",
       " '6e507732-b01a-4abc-bb5b-22dff8db8c31',\n",
       " 'ff5db309-d094-4768-8063-8209bef31562',\n",
       " 'c2851885-050f-48c8-9b23-0811359f0135',\n",
       " '3687e22f-fc39-4ba5-a81f-e1cacfea58a8',\n",
       " 'a8235215-215a-4449-9f6d-67edd97313e4',\n",
       " 'b5be0cc2-82ec-45a3-878f-edb166063077',\n",
       " '233fcacb-c0e4-4faf-8ac0-028ed029f4f2',\n",
       " '9108b5a8-445e-475d-9258-e938240eb9d3',\n",
       " '896d64a6-8a13-43db-82de-49931d085736',\n",
       " '2736c4c9-2428-4b9f-ad63-e05d536ba1b1',\n",
       " '62901dba-c98c-49e3-8175-ddf346530ff7',\n",
       " '37115f4a-b545-4f12-ac08-03d19b7e86e1',\n",
       " '2e8c6183-78e1-44e8-a098-395786a50946',\n",
       " 'b46c5a07-8a3b-410c-8542-ebec4f3646df',\n",
       " 'cff3cac8-ac07-47c1-aeab-3239af04f5b1',\n",
       " '2e60f5b3-caf4-44f8-b8c4-f0aab6298660',\n",
       " 'c71fc67b-682a-43e6-8701-54d4a00aa5e4',\n",
       " '22f0fd24-afd9-41ef-9c25-48c493973598',\n",
       " 'aa980ad5-bb75-4291-81e7-3137113a15ea',\n",
       " '9af6b7bb-22c1-4b35-b846-1cafe095ac80',\n",
       " '3442e380-be5f-4beb-80c9-084431a80882',\n",
       " 'f434ac5f-bec8-47fd-81f8-44f95f5fea8b',\n",
       " '6c814f62-f814-4fec-82bd-ae6fd01c06fc',\n",
       " '7b88b470-7565-4863-b817-c2f135abbb7f',\n",
       " '58f22c67-3a63-4e8b-aeb3-3bbb5a0da01b',\n",
       " '143dcce2-1653-42df-9fa0-0dbfcc5a3074',\n",
       " '8330fc1d-1f26-4472-9667-e48c325f28d4',\n",
       " '2bbb5fd4-f8eb-401f-a30d-6d3eb94160e7',\n",
       " 'a1a870bb-6878-497b-a9b9-966bb5a390f8',\n",
       " 'f03522ad-f558-42a9-a02b-8d3d8c86d7cf',\n",
       " '41251ff7-d4c4-4d1e-b623-67294247e0a8',\n",
       " '7db90a72-01ac-43e1-8fc6-57628e859593',\n",
       " '7a9674d8-f6a8-495a-bcfb-0a73b827a497',\n",
       " '50dfaaf3-4577-41c8-92e0-a9813d7dd587',\n",
       " '09751b6a-d505-4a55-ae47-85aaa6caed22',\n",
       " 'c52763de-71c8-481b-880b-ca3f6b564c6a',\n",
       " 'a6fa8d81-767a-4fad-9821-03c8550f968c',\n",
       " 'e1d95c99-5279-4c94-9e7f-39cffed86130',\n",
       " 'e0692228-c749-4ad5-ba3c-0c00fe743939',\n",
       " 'bb413be2-3dc9-4098-a78e-487241a7b7bf',\n",
       " '7928e457-1155-4ab6-8461-21dcd5146434',\n",
       " 'f3263a57-7e25-4984-9bb8-4137d471269e',\n",
       " '44e02400-92b0-4886-9342-cc913e631090',\n",
       " 'afec7871-3f51-4da0-9abb-3dc6a678c7ac',\n",
       " 'c6321ff8-df48-43e1-a0de-ec4f8aec1662',\n",
       " '2ef9ce38-b1fb-4fc0-ad83-648df8328678',\n",
       " '1d170db5-bd02-4e54-8ee3-5076b3a80465',\n",
       " '0dd51c0a-1d79-4a49-a790-d4d211d5294a',\n",
       " '83bd857f-42e0-4954-bdcf-47acca91e37a',\n",
       " '6cc4580b-7ae1-4e68-9370-678cbe1a419b',\n",
       " '477e0630-3585-4d21-a3c8-6767196f847f',\n",
       " '79f4c4c9-1119-4fae-a5f4-6ccb59875bad',\n",
       " 'd2a1af51-8a4f-43d5-a8dc-8d8b94995823',\n",
       " '796d0b3f-8c4d-4b9b-b669-c470ed83632c',\n",
       " 'c9759ef7-0dee-4d80-9129-c113ab1d235f',\n",
       " '25b208ca-024a-4d9c-8e58-ddc4e6d4b9be',\n",
       " '9f985ef4-14ec-4f71-95c1-fe22246c8b17',\n",
       " '026d9178-cb8e-4934-beb3-c726a70c7c1a',\n",
       " 'c23c0568-885f-42c0-993d-cdee04466b23',\n",
       " '9102d831-76b0-4487-bb60-eb9702472d95',\n",
       " '6b096551-a599-4b72-93ae-324a19f076cb',\n",
       " '1486152e-f4c4-431d-9300-717bca6be446',\n",
       " '8a4c12ab-5257-4238-be2e-824b8d21856b',\n",
       " 'b26ae10a-8c77-4377-baa1-3550ce2b44d5',\n",
       " '1f040e21-d6b1-440c-823e-d127ad2a52b6',\n",
       " '7cf455f8-207e-43b9-a592-edf9264a2073',\n",
       " 'a5e57529-f6da-4a9b-829f-fecdc16767b7',\n",
       " '5b4cb22e-02f6-4719-b6bb-68ac363f86bb',\n",
       " 'c3a07680-4ab9-401d-a442-84562257ce7d',\n",
       " 'a53535f8-d435-4b2c-b44c-067bb44eea2e',\n",
       " 'cd040558-36d2-4492-bf3e-497237e79e7c',\n",
       " '4439f015-5474-4fb6-ab06-e7ed5b060daf',\n",
       " '3ff9e45a-2209-4e39-9eb2-a009e49bc9c4',\n",
       " '499b56ed-c914-45ec-be99-7da77902d308',\n",
       " '587e5fe7-a030-42d3-aa41-0f6397e5cd7d',\n",
       " '914ba3c7-e639-4397-b8fe-16a7bb2142dc',\n",
       " '042b79e3-a773-46ef-b0be-8dbfdab4231e',\n",
       " '8d21355d-044e-4391-82fd-5d43949b8b34',\n",
       " 'ee0fc8a0-4937-4b70-a9e8-97e59ed79385',\n",
       " 'ce794207-a774-404f-8215-7d2439f14efc',\n",
       " 'f549df2d-82f4-4f2f-b49b-d57793c6d011',\n",
       " '9c6a08e3-5bb0-4af9-bca1-258db35c9821',\n",
       " '208b9d33-0928-4b00-bf56-64b1404a2380',\n",
       " 'b5e5e04a-8768-4a43-aaa0-4dc46b641434',\n",
       " '3de13b91-34ae-4a43-a1fa-11c5bd1706ef',\n",
       " '9d9fdba8-c517-4e7b-9d49-5cddfbc5ab46',\n",
       " 'e725bc14-41dc-4d78-8306-2712a2eed764',\n",
       " 'b930be12-ab7a-403d-8b9e-592edf4f0b29',\n",
       " 'ab9aed95-0441-40c6-ae1f-a64b317fde51',\n",
       " 'da403459-45bd-47bc-b91b-5954094cbaf0',\n",
       " '3e6111f1-6544-4aa6-ad0b-e73781d2565d',\n",
       " 'd12ae4df-adee-4d40-a786-41ca17c7bab9',\n",
       " '81263237-1a7b-4fb1-9e16-77604166c291',\n",
       " '931b1467-adf0-4d00-9a7b-ac9464b8fb95',\n",
       " '6ec81ef0-9134-4a8b-b20f-2fdb1e8ea93e',\n",
       " '548f5026-8122-450e-bd81-2ba1ef413c27',\n",
       " 'be42caa9-97c2-4a82-815c-b21c6f00e880',\n",
       " '0fa74e1c-3552-4e1d-959b-a6db6dc1acb6',\n",
       " '1b8cf87c-79d4-4374-afb6-33b1ab4b0b55',\n",
       " '128e4b52-c0d8-4e7e-82a6-3b11bdbf6366',\n",
       " '50c1416f-0ca1-4844-9bfd-74494b1ccb24',\n",
       " '5dc43c9b-b8d7-43cb-a90b-eeb5e0718c86',\n",
       " '0f034e53-eaf7-4441-8ea7-8fd7f3c79d9a',\n",
       " 'eae0ad56-dcda-4f97-b181-9edcac92b2d4',\n",
       " 'abf221b0-01b7-4ed7-bec7-685e7099cd5d',\n",
       " '9f5bb43e-9791-4f68-8ad1-da4329286695',\n",
       " '8c48c52e-a394-43c0-a469-c618ef876f2d',\n",
       " 'c2fb6f75-8df8-4b1e-99c8-8fdda79a8968',\n",
       " '00df1ba6-2b6f-4547-b9d6-2a2fa0d31248',\n",
       " '70cf3871-5f39-4a9f-ab03-64e5562f113d',\n",
       " '1cbf7518-de04-4124-b934-e7c01865340e',\n",
       " 'a6c9f027-2b27-40f6-8d90-4c822ab8ef87',\n",
       " 'e79193a1-c2b9-46c7-8928-b361f7cd0f21',\n",
       " '38c4b647-8608-475f-b39b-81aee831dcc5',\n",
       " 'f1d60de2-a598-44de-a2ea-fe460e785091',\n",
       " '0848ec05-874d-4d12-8d3c-86a34b83b5f8',\n",
       " 'db627b0a-824c-4fce-97cf-4723ba47cc71',\n",
       " 'bad60b06-2c21-4f98-b444-b92e05613b43',\n",
       " '880c524d-78d8-4224-9aff-4c7395af9d89',\n",
       " '0879c66d-e13a-412b-a95d-87b61dbde209',\n",
       " '55c61474-6ea5-424b-9446-53741f89352f',\n",
       " '72714490-768b-4aac-82c3-252588fb2ae2',\n",
       " '5873aace-e00d-4038-bd0b-efd84328535a',\n",
       " 'd300c235-5fec-4aac-b119-7558fd3284f7',\n",
       " 'cc01ec4d-95bf-4984-8a11-2c6b7618306a',\n",
       " '9d0abfa0-7b9b-4b0d-9717-117a503efc67',\n",
       " 'bf968a0e-0646-4876-af13-c0e1f87f0abf',\n",
       " '28ff2ff2-0efa-44e4-9496-2ee9c2d89e1d',\n",
       " 'c92e80a1-b656-42c2-8dda-c675f4f3061f',\n",
       " '8a02c7fc-5291-4a3a-97e4-72d19ab1da54',\n",
       " 'f6bf853e-e079-48b5-84bb-2cd22d20c59c',\n",
       " 'eb6a7236-faa4-4920-82e2-06018640e369',\n",
       " '4ee0a33b-f7e1-44c8-9f9e-43f33193933e',\n",
       " 'f930e1eb-ed0c-4eb6-b89b-329362b8f8ff',\n",
       " '44d61064-e72e-471e-ad57-0bdc2fc45a64',\n",
       " 'fa6d2155-356a-4b7f-b50d-256649c24f31',\n",
       " 'e76fd000-8dab-4f0e-a33e-a10c677cb105',\n",
       " '7f108589-07ed-4bcc-94cf-9d71bb5c9f78',\n",
       " 'b23b4577-f733-4e32-8293-0f8a203b23b4',\n",
       " 'e0dd7feb-f357-42c4-b5e0-300fa281f479',\n",
       " '7a5c4806-1e40-4158-9b42-7c5118929ca6',\n",
       " '597909b9-0189-4eb3-93f3-abb28397c3fb',\n",
       " '315f424b-93f7-4862-8b52-8b9d7dbaa2cf',\n",
       " 'c23e3983-7455-4778-b5ab-f11a77c3138e',\n",
       " 'bbd852bc-d301-4629-bb4b-82cfc5da64b8',\n",
       " '1717ed55-2660-411f-99c4-a52c56c8168d',\n",
       " '1e1b622d-08a5-4623-be11-698d184f4c3b',\n",
       " '877acfa0-9767-430c-9e8c-0b5c97f48b98',\n",
       " '39264416-f893-40b0-9388-c9cf042d6181',\n",
       " 'f915ee79-e609-4054-a570-2d719bb9b24f',\n",
       " '126d5cdd-1f0c-49e8-96d6-94937a7fdf22',\n",
       " '1627c6e7-9c31-4d12-b2bb-bfb519c9bb2d',\n",
       " '97788353-f805-46c9-a181-d9ab31c5b40b',\n",
       " '5c32aa84-4234-48d7-819c-9a5347d9795f',\n",
       " 'f2b60385-b068-4b41-b0c2-7e81791ba3f6',\n",
       " '77923132-26d7-496f-a05c-a9c82de405dd',\n",
       " 'c5618921-f502-4d5e-989e-fd171798fd7d',\n",
       " 'f4b55e94-3047-4b26-9c1d-1da387c81128',\n",
       " '6af10e28-7380-41c0-941f-cb7b41d73996',\n",
       " 'b1560f9b-b638-4a04-bfc7-4f2a58596847',\n",
       " 'cde40522-deae-4589-9056-8e19979f1f6a',\n",
       " '7feea315-d389-42a3-b645-cbdc39ebe754',\n",
       " '3e6dda51-c89e-4c3e-9910-024d2dcdea50',\n",
       " '84fdbfee-2d45-4525-b647-77e93c935a2e',\n",
       " '9d452280-ff1b-401c-8018-f2d94f873d29',\n",
       " '00f87a4a-5ffb-4f6f-a3c4-5ac8b010364c',\n",
       " '0e227d6c-cf88-4bf8-83fc-d5c3e2b73d44',\n",
       " 'd17b8d76-67ef-4f2c-8ad0-69aad8d5bfba',\n",
       " '6d087c58-1f8d-4457-9bad-5000c9becc11',\n",
       " '44b7be0d-3e84-427d-bdad-3b079ae425aa',\n",
       " 'aee093e4-76ca-48e1-a334-67c1a1e0683f',\n",
       " '3db7b78e-9599-4c33-88c1-793543091ba7',\n",
       " 'a2faf0d2-edba-4551-b29b-4706895b7408',\n",
       " 'b7556c79-4646-4292-91a2-8e5e5a2b638f',\n",
       " '3e85d93b-23f6-4620-9f88-5986917c72a1',\n",
       " '0cb20404-59ff-4e60-b161-7936a58bd5dc',\n",
       " 'c65d7a43-b68e-4555-b2c0-8ca005553d08',\n",
       " '5a18916d-c24e-448d-b566-ba7bc9052af8',\n",
       " '97f034bb-745a-445e-9029-23b04c86856a',\n",
       " 'f0572ce0-99bd-4acb-b9cb-150c4a622ff7',\n",
       " 'a312627d-36c2-4a4d-bff0-06a4a678f170',\n",
       " 'b49ef228-3777-45ef-a32d-1ca124a46e04',\n",
       " '8fde1208-2227-47f4-8a03-466d1e7b97ed',\n",
       " '5583560e-524f-4497-8c40-6a28a0a13eef',\n",
       " 'b4fcedcc-672f-4161-aa31-9bf4deb787db',\n",
       " '0de51444-2d5c-4757-8ccf-29ea1d8a9780',\n",
       " '43389927-43e0-4195-9d37-dd96a25e2ac8',\n",
       " '926f8354-c784-4b71-a59a-d0461bd1a573',\n",
       " '9cd3fcc1-5c2d-49a5-9f28-4d5d9e336155',\n",
       " 'e4d59911-8cce-45ff-a689-16f7d0e34a7d',\n",
       " 'b166e4c7-c83b-4996-b49a-49d61b667294',\n",
       " 'f097ba6f-b8c8-4c10-acec-37ee7301f42f',\n",
       " 'b9cbb738-66f0-47bd-9bad-d337863ccb2f',\n",
       " '8a087563-df49-4317-abe7-4e5a8bb94aee',\n",
       " '5dda0d64-acf8-467d-bbfa-dd35d9027eca',\n",
       " '1048e080-012e-47bf-9acf-8e6e9a181226',\n",
       " '493e04bd-6dde-4b73-be13-2b35a2f1c470',\n",
       " '3ca23862-1710-4cd8-aed1-b1fe4ac62af4',\n",
       " 'cea36c08-bf3a-4ccd-8438-985e59653e6e',\n",
       " '3e2eb138-8b70-41a4-af68-8a8c0405c09b',\n",
       " 'ffd703fc-4766-4e8b-8fbd-f9f9145efb64',\n",
       " 'a8f7e2c1-19ba-45eb-ba38-92d082578bb3',\n",
       " 'd1dcf849-40e7-443a-8333-6adf1f8e48e9',\n",
       " 'acbaefe8-46c7-4e9d-a7c6-78c6ef58f731',\n",
       " 'e98f5a9e-c599-4a96-a61f-561ec4fc2611',\n",
       " '9ddfae9f-301a-4e6f-b86a-881f3b4840f4',\n",
       " '5393535d-5d94-4228-a818-ac48e6e67e3b',\n",
       " 'd9a11692-b9f1-44cb-a63b-3b83ffc62908',\n",
       " '37c63984-29a4-4d4d-bd76-8ae63da04f14',\n",
       " 'a844e841-8a76-4613-b17e-301392a4edfb',\n",
       " 'e730582f-d600-43ee-a4cc-5b5b15a5d093',\n",
       " 'a719d8a6-d720-479f-b19d-645bbc11912e',\n",
       " '9ac8b157-694c-4c19-9479-dfd6ef268ff0',\n",
       " '0cfc14b5-a52e-46e6-9080-15692ac5f762',\n",
       " '47ef8c9b-af88-4733-8a71-f16f1fa394fa',\n",
       " 'ffbbacc6-eea0-4150-b800-9a447330eed8',\n",
       " '8f889b6c-9fb9-4d5f-960e-be929fa1385b',\n",
       " '335a7ef0-5241-44fc-b8eb-e0adcadb14ca',\n",
       " 'c7f91f59-54b1-4164-a528-1744a3bb73cc',\n",
       " 'fa16a9c2-6ca2-4538-97ef-195b31be8e2e',\n",
       " '47dca7a3-97dc-4e8b-96bb-915203fee294',\n",
       " 'c0fe33f2-67aa-42a4-8126-ad76c8cfbe8a',\n",
       " 'ce95238b-8d1a-4178-85a1-0447374c1569',\n",
       " 'a442ca35-d5b6-4542-909a-9e727d834b12',\n",
       " '227efd84-bfb0-43fc-bcf0-54baae46cf82',\n",
       " 'e75b4cd0-37fd-432c-bd00-d5db3f85e90e',\n",
       " 'd3819823-eece-4794-ac34-025b5b7727f6',\n",
       " '002a60fb-f816-45bd-80e2-4f886269d6d7',\n",
       " '53e8890f-1c7a-479a-8fe2-344f670531d3',\n",
       " '978739f2-274b-4941-9ddf-a128554c61be',\n",
       " '1083e03d-511e-4487-a913-1f2d2e5992b3',\n",
       " '4e398598-3216-4937-907b-88ec51881719',\n",
       " '3f884cc3-6362-4ecd-a2c9-54df62608d43',\n",
       " 'da310e05-5231-4151-819e-7134d452b9aa',\n",
       " 'ded04145-b15f-4fe8-b8a5-75d76c25bd5e',\n",
       " '21ad5a98-2fdd-40c7-9fa3-055fae708242',\n",
       " '402e23fb-8c5f-496a-9b10-cde4bc052c51',\n",
       " 'cb1030c0-2b81-4186-80d5-5f1b44dd5fa6',\n",
       " '9f1c26e8-3b6b-4d60-b1cc-9c98f4634de5',\n",
       " '0175896b-9450-42bc-8ed5-e34ad44fda5b',\n",
       " 'adf20454-1b4d-4e4f-8db5-6f79ff4d9869',\n",
       " '9f2d6179-830c-44a8-b350-c729a54e6cec',\n",
       " 'f34d34e6-0786-410e-aed3-f570fa4f0a47',\n",
       " '9ad083f9-5e4c-40c2-be4a-22de681004fd',\n",
       " '6a3239c3-eb76-4427-ad62-3db96d6108ee',\n",
       " '330d46c2-f8c3-4830-8441-6650b7f940be',\n",
       " '1f100313-f1d6-4b36-ac64-3a6bb750b08c',\n",
       " 'c330c99d-fe91-46eb-868d-fc4b03608469',\n",
       " '01fccf96-13f2-417b-9c92-4bb059296fa6',\n",
       " 'd189de6a-a3f0-4628-9c4e-6f3fc928520e',\n",
       " '2962c640-03a0-4979-bdbd-65eb64857da3',\n",
       " '8c7ec875-7feb-441f-8b71-997313d9b5dd',\n",
       " 'f48f515f-a811-4a24-9560-881be04a86a0',\n",
       " 'abb647e0-5b12-4f46-a1ce-90d8f8cc8f96',\n",
       " '87d81511-61df-4bb5-a106-0af5806bed8d',\n",
       " '555e9c7b-88a4-4bbc-8017-9e78d4c1f8fd',\n",
       " 'ef3eb674-cc2c-4164-b3e1-9d45cc684f37',\n",
       " 'c8fd2943-1760-4d14-824b-b3559b731ec3',\n",
       " 'c6795201-1d97-487d-bcd6-5650fd44e5c3',\n",
       " '43f35a2f-f52e-48b9-b3c2-7ea9975bb136',\n",
       " '04b17bf0-fe52-45c3-9aa3-6402c1130ac9',\n",
       " '12a85498-7cde-4131-9dcf-89bc4fd65231',\n",
       " '2e0175ba-4948-4476-8084-c02683078e74',\n",
       " 'a3d2f6cd-fa02-4f42-b62b-e37eb3269b01',\n",
       " 'e8ca0657-4668-43f3-83fd-8c5e016ea6a2',\n",
       " '57229fa7-ca4b-47ec-b940-0050182efb40',\n",
       " '13fa4ed1-be0c-4344-825f-ef89e292b868',\n",
       " '81775000-f045-4186-9f8d-1f8d7205c85d',\n",
       " '8cffe0d7-cb22-4871-bca5-80d52adb27c3',\n",
       " 'ede82df4-e7fb-4316-a448-2c7e79dcd5d0',\n",
       " 'a1c034ce-4324-4ff4-a9c6-a83d1c7f2130',\n",
       " '495fb5ac-5bd0-415e-bb25-39c73ab8c9ad',\n",
       " '51a7ac6d-89a1-470a-bfa7-18b0bc413129',\n",
       " 'd9ea5e4e-903b-476c-80b4-9f45225bf2a8',\n",
       " 'f11ecbf6-ff6d-466d-b37b-ae04ecbe934c',\n",
       " '57c323d3-a306-4d82-9cdb-528cc32d802f',\n",
       " '4b650665-5791-4474-aa44-c3dd2bea4ac2',\n",
       " 'ce0d4a03-0728-42e0-9f8c-875c3f605b95',\n",
       " '240892fa-2a4c-44c0-8503-4d19a74df0a3',\n",
       " 'e9c02750-175b-4b5c-a958-7055fc1959ec',\n",
       " '2d6cad3c-3547-4abd-9ae4-d49b2724b4b7',\n",
       " '9e2d7980-500b-4c2c-8008-2b7bd84b33e1',\n",
       " '3c1ef591-1b95-47a2-83c8-9adf28681d1e',\n",
       " '97dde3f2-7c44-411d-a670-a28c0c60c669',\n",
       " '6ca99488-d334-4e6b-9d39-0b6aa6127e69',\n",
       " 'a8ca3953-62a5-45f2-8b98-f770b9bcaff4',\n",
       " '1c5c7845-050f-4b01-b3f8-3a2a9f0b9c4a',\n",
       " 'f31eedfb-ff8b-480b-9d79-ec6b06fc24cc',\n",
       " '40f3ba81-8563-4471-adc1-1cec6dccaa7c',\n",
       " 'a634a0f8-4575-4d0a-88ab-6bcbb6d24e73',\n",
       " 'b2d08d18-7ee2-421b-9d74-25eb754ac9ac',\n",
       " '6c85e498-961e-42c8-a119-a4cf819d51f9',\n",
       " '8f147839-d880-4fb1-aa97-3a3af9ed677d',\n",
       " 'cb036535-8aba-4093-91b2-7c5f63c3c6c6',\n",
       " '3865fea2-fa66-4fd0-84ed-085547931bc7',\n",
       " 'adc2ad62-f253-4d15-add4-c638268166db',\n",
       " '14f9ad23-2b0f-49d4-9c52-9318397af080',\n",
       " 'bc0d558e-a110-4e00-ba43-1be96bce3ca3',\n",
       " '18f9f4b1-90bd-4357-bfaa-fa5430e41ee5',\n",
       " 'e650eb47-576f-486d-8358-25cc71cb122c',\n",
       " '2590b12c-2d1f-4842-a303-548d124aa7c4',\n",
       " '8c839ffe-f907-410d-aaf4-389e7106ca35',\n",
       " 'd861f25b-b70c-45dc-b2a7-1632b57f54c2',\n",
       " 'db7c1220-a163-4207-9ac6-570f0d157eb4',\n",
       " 'f2adb84c-a67b-4cfd-ac25-bc9f222ee874',\n",
       " '934649cf-a94d-4d1c-844a-190e43ea6f54',\n",
       " '4be34e53-740b-456b-a083-0da33e5e181b',\n",
       " '4a323c92-6c82-4bff-b8d4-96fc34fd5491',\n",
       " '6bf8f413-33d3-415b-9ce3-9ed001532f25',\n",
       " '295c416b-f0d6-4d33-8539-a40a5067c59e',\n",
       " 'bb777c62-1022-4e7b-bc71-13d1a86ab2b5',\n",
       " 'c52a9a35-3d54-4337-bbe1-d469d6ce6abf',\n",
       " '1457aa30-9c99-48d8-a068-567e078a762d',\n",
       " '8b7c46f7-0d2f-4f2c-aac0-4127d1c512b7',\n",
       " '1e942e53-7896-4f4f-b52e-4db04d49740e',\n",
       " 'be424c9d-2c42-4e7d-a5a3-09e06019a80b',\n",
       " '9af09ae9-1308-4095-abcf-77be6dfbc4b1',\n",
       " 'f3713290-b738-44ee-8114-f807f289dd18',\n",
       " '5faa441c-ffc8-4ecd-871f-46209f4a79f0',\n",
       " '8e3f9b36-ff83-403a-949e-b2c62e76302d',\n",
       " 'e07642ee-433a-4afe-87d9-468370b0f0e0',\n",
       " '98eb5688-b567-4b60-9ea0-6b8bd384779d',\n",
       " 'edb1a35a-6cb4-4919-bd08-a39104f0378e',\n",
       " '452913ec-ee16-4c5f-94c7-4fafd6170b68',\n",
       " '294d07cc-4801-4874-9499-94fb57764936',\n",
       " 'fdfffc30-e14b-43af-ad49-6555e931622f',\n",
       " 'd623f896-b637-46ac-a74b-e68c25ded1a5',\n",
       " '7eadc916-5fd6-4339-a98b-432203ecb237',\n",
       " 'abacc7d6-cc2e-40c0-af22-eaeb22c0a9c4',\n",
       " '81a497f4-47c7-4ba4-807a-81c342988336',\n",
       " '2a681de2-6bc1-4aa5-b195-6af72fbf7c91',\n",
       " '9bf947d5-af2e-4a0e-a909-cb573b2fa7fb',\n",
       " '2be5fb85-f485-4557-af8a-e7ee7c0375f6',\n",
       " '240d31ac-90ee-4082-bc7c-5b1a8865e722',\n",
       " '347399b2-54a2-4d8d-a787-95fd0aff104a',\n",
       " 'd3998f13-28ec-4e37-b4e7-3436629b7191',\n",
       " 'fb75ff60-8a1d-4926-bcc8-10d7a3988833',\n",
       " 'f6f81fec-87e5-48ab-b1fa-85dcb3283167',\n",
       " 'bfbd5424-73c0-4740-9ab9-8e4406e9e156',\n",
       " 'b4702c9e-d634-4dc3-ad41-db7cba9dd146',\n",
       " '0eaf1fdb-370c-47d4-977f-efd99a2db130',\n",
       " 'a00b0c52-ab04-41a6-bf4a-cf498d2723d0',\n",
       " '062371a1-1b77-482a-b1f0-cdb8298995a8',\n",
       " '52855a20-d7da-44a6-b7f2-fa1b92e5e81c',\n",
       " '3c5d1fe6-4446-46a8-b3b7-078048583930',\n",
       " '1f5b65c5-9b14-4aac-83ec-f685a4d3dd8c',\n",
       " 'dff755ae-8903-458e-a757-25e7cb0e7780',\n",
       " 'faab42da-ba42-4d27-a327-3f34f2120247',\n",
       " '352c2740-c815-44c6-8d3a-9b2bab0a2902',\n",
       " 'bae6d169-1332-4c0a-8420-d875cd7ded89',\n",
       " '8923107c-3b82-4c49-8614-d45e0110b8f5',\n",
       " 'f21420b5-44aa-4655-bc8d-ded0f86d8023',\n",
       " 'a9fd643e-d71a-4fc5-bce0-971566871a01',\n",
       " 'e0860b4d-b11a-4894-9a67-926613525dc6',\n",
       " '1d84f315-8bd1-4972-b71c-5028bfe02696',\n",
       " 'a0b7e5eb-3847-4cca-8da7-5b6d6d0d5fa7',\n",
       " '71978c23-afc1-4c79-af52-d7c0de221992',\n",
       " '407ba603-2d1f-4c47-bed4-f94dcd6e0caf',\n",
       " '70e0f4a5-2ae3-40b0-8822-8c45f066c4e0',\n",
       " 'a43a36bd-768d-4e8d-8184-0539407c0f3a',\n",
       " '915de587-54c5-49cd-8a6b-ae4e8ca97648',\n",
       " '438c57e4-9909-42b3-b061-fe014f6ab40e',\n",
       " 'f2674192-ccfd-41f9-b3d4-abac2777f895',\n",
       " 'bdd8aabc-acdf-4701-bbbe-a4cd808723f0',\n",
       " '950a841c-7c30-44c6-93c6-f9d30490e1ba',\n",
       " 'b8ee9398-3eb4-421b-aba4-02101408ec79',\n",
       " '88d99d62-33fc-4fff-a40f-4174086f562a',\n",
       " '803926a5-ae23-479d-9cae-9484a7a61246',\n",
       " '4d470394-c9f2-4bfd-902a-d1cb83b36477',\n",
       " 'ce9a9de7-166a-4216-ac77-42e0309b71dd',\n",
       " '01bf1dec-4504-4872-815d-67c4d8342ab2',\n",
       " 'fcd38be1-5778-4d6d-86f1-15026c661623',\n",
       " 'cc48ae0d-8f63-483a-afbb-d325ecab6e69',\n",
       " '14c62f55-eab4-4802-90fa-05286cffc9e7',\n",
       " 'c8e56ab5-3be2-4d00-a02e-0a51e5c76d48',\n",
       " 'c66a94a9-09fb-44b0-8b2d-f4655d69f474',\n",
       " 'e148ec51-392c-4449-bd18-47fc3ec7e4d5',\n",
       " '30bd8430-cb39-45bf-991f-0bf9ba7183d0',\n",
       " '99d6cc9f-acc6-4849-8750-ed0a67395be0',\n",
       " 'f2504b37-9d73-45b0-b4f7-d0c5e8f0996a',\n",
       " 'a756f892-5a8a-4a41-bbb2-5ed884e4d78f',\n",
       " 'ed0022a7-c253-43b8-82d7-47ce88282abb',\n",
       " '4538caf8-19c5-4526-987b-74a2043eaaa3',\n",
       " '42275970-56ed-4102-89d1-48b4174c20f8',\n",
       " 'ad87300b-2aac-498e-a3c8-ebf2a1a9ecad',\n",
       " 'd654ffce-87e6-4f09-bfcb-b65e23552b44',\n",
       " 'ac028576-f0e5-4e0c-9f73-6eead9416e60',\n",
       " '813f10b4-6a1b-4f78-b635-6b1730742093',\n",
       " '65ab0684-eacf-492b-95a4-c82a82eb1cb9',\n",
       " '6962d17b-fea0-4842-8520-28740244c119',\n",
       " '1634fc43-9f06-4b16-b700-deefad471c5b',\n",
       " 'e60aeae3-4f49-4cb1-874e-e735d3799b75',\n",
       " '0d9d8ca8-2eaa-4b49-b5c1-4edb9f282808',\n",
       " '934d6749-8b65-468f-9358-0d3a0e46bf4b',\n",
       " '58ff63b3-1bd0-4cc7-9433-02f19135b8ab',\n",
       " '9ff0367c-3da9-406e-b7de-f07b59d70533',\n",
       " '89237630-861a-4940-aada-651c2e53ebd6',\n",
       " 'e2b75f55-c8aa-488b-995f-1b2e3e1dab25',\n",
       " 'cef6c9da-fb64-444e-84bb-c839673446ae',\n",
       " 'e6be6f84-ca69-460b-97ef-a813464c779b',\n",
       " '81b3de30-4ade-4c1c-bd18-9e1e479813e0',\n",
       " '8400eae9-ea8f-41b0-90ad-4cf3b08048b4',\n",
       " '00752f76-a3b0-4030-8aab-09c7ebc2c75e',\n",
       " ...]"
      ]
     },
     "execution_count": 6,
     "metadata": {},
     "output_type": "execute_result"
    }
   ],
   "source": [
    "import os\n",
    "\n",
    "path=os.listdir(\"Data/train/\")\n",
    "classes={\"Normal\":0,\"Serrated Lesion\":1,\"Adenocarcinoma\":2,\"Adenoma\":3}\n",
    "\n",
    "image_nm=train_csv[\"name\"].tolist()\n",
    "image_nm"
   ]
  },
  {
   "cell_type": "code",
   "execution_count": 7,
   "id": "08c2288a",
   "metadata": {},
   "outputs": [
    {
     "data": {
      "text/html": [
       "<div>\n",
       "<style scoped>\n",
       "    .dataframe tbody tr th:only-of-type {\n",
       "        vertical-align: middle;\n",
       "    }\n",
       "\n",
       "    .dataframe tbody tr th {\n",
       "        vertical-align: top;\n",
       "    }\n",
       "\n",
       "    .dataframe thead th {\n",
       "        text-align: right;\n",
       "    }\n",
       "</style>\n",
       "<table border=\"1\" class=\"dataframe\">\n",
       "  <thead>\n",
       "    <tr style=\"text-align: right;\">\n",
       "      <th></th>\n",
       "      <th>name</th>\n",
       "      <th>label</th>\n",
       "    </tr>\n",
       "  </thead>\n",
       "  <tbody>\n",
       "    <tr>\n",
       "      <th>0</th>\n",
       "      <td>bee9cf01-3c37-4605-bb49-1695e19882d1</td>\n",
       "      <td>1</td>\n",
       "    </tr>\n",
       "    <tr>\n",
       "      <th>1</th>\n",
       "      <td>e8064fa6-f6d1-4c57-889b-594fbaeb91c3</td>\n",
       "      <td>1</td>\n",
       "    </tr>\n",
       "    <tr>\n",
       "      <th>2</th>\n",
       "      <td>a663be20-e30c-40ac-926a-26b64c52457f</td>\n",
       "      <td>1</td>\n",
       "    </tr>\n",
       "    <tr>\n",
       "      <th>3</th>\n",
       "      <td>9e658b7d-3269-4d2f-8ae7-902f761865d6</td>\n",
       "      <td>1</td>\n",
       "    </tr>\n",
       "    <tr>\n",
       "      <th>4</th>\n",
       "      <td>7a37b2ff-2400-4f4d-969b-7a98dc43bb65</td>\n",
       "      <td>1</td>\n",
       "    </tr>\n",
       "  </tbody>\n",
       "</table>\n",
       "</div>"
      ],
      "text/plain": [
       "                                   name  label\n",
       "0  bee9cf01-3c37-4605-bb49-1695e19882d1      1\n",
       "1  e8064fa6-f6d1-4c57-889b-594fbaeb91c3      1\n",
       "2  a663be20-e30c-40ac-926a-26b64c52457f      1\n",
       "3  9e658b7d-3269-4d2f-8ae7-902f761865d6      1\n",
       "4  7a37b2ff-2400-4f4d-969b-7a98dc43bb65      1"
      ]
     },
     "execution_count": 7,
     "metadata": {},
     "output_type": "execute_result"
    }
   ],
   "source": [
    "train_csv.head()\n"
   ]
  },
  {
   "cell_type": "code",
   "execution_count": 8,
   "id": "5698cdf5",
   "metadata": {},
   "outputs": [],
   "source": [
    "directory=\"Data/\""
   ]
  },
  {
   "cell_type": "code",
   "execution_count": 9,
   "id": "f425c130",
   "metadata": {},
   "outputs": [],
   "source": [
    "df=pd.read_csv(directory+\"train.csv\")"
   ]
  },
  {
   "cell_type": "code",
   "execution_count": null,
   "id": "d6c91b57",
   "metadata": {},
   "outputs": [],
   "source": []
  },
  {
   "cell_type": "code",
   "execution_count": 10,
   "id": "5c91ac0f",
   "metadata": {},
   "outputs": [],
   "source": [
    "#maping image on the csv"
   ]
  },
  {
   "cell_type": "code",
   "execution_count": 11,
   "id": "203ab7bc",
   "metadata": {},
   "outputs": [],
   "source": [
    "import cv2\n",
    "X=[]\n",
    "\n",
    "for name in image_nm:\n",
    "    path=\"Data/train/\"\n",
    "    img=cv2.imread(path+name+\".jpg\",0)\n",
    "    img=cv2.resize(img,(128,128))\n",
    "    X.append(img)\n",
    "  \n"
   ]
  },
  {
   "cell_type": "code",
   "execution_count": 12,
   "id": "626dd652",
   "metadata": {},
   "outputs": [],
   "source": [
    "S=pd.Series(X)\n"
   ]
  },
  {
   "cell_type": "code",
   "execution_count": 13,
   "id": "ac254a0c",
   "metadata": {},
   "outputs": [],
   "source": [
    "df.insert(loc=1,column=\"img_pixels\",value=S)"
   ]
  },
  {
   "cell_type": "code",
   "execution_count": 14,
   "id": "b51bf96f",
   "metadata": {},
   "outputs": [
    {
     "data": {
      "text/html": [
       "<div>\n",
       "<style scoped>\n",
       "    .dataframe tbody tr th:only-of-type {\n",
       "        vertical-align: middle;\n",
       "    }\n",
       "\n",
       "    .dataframe tbody tr th {\n",
       "        vertical-align: top;\n",
       "    }\n",
       "\n",
       "    .dataframe thead th {\n",
       "        text-align: right;\n",
       "    }\n",
       "</style>\n",
       "<table border=\"1\" class=\"dataframe\">\n",
       "  <thead>\n",
       "    <tr style=\"text-align: right;\">\n",
       "      <th></th>\n",
       "      <th>name</th>\n",
       "      <th>img_pixels</th>\n",
       "      <th>label</th>\n",
       "    </tr>\n",
       "  </thead>\n",
       "  <tbody>\n",
       "    <tr>\n",
       "      <th>0</th>\n",
       "      <td>bee9cf01-3c37-4605-bb49-1695e19882d1</td>\n",
       "      <td>[[72, 77, 100, 83, 72, 74, 104, 97, 77, 79, 74...</td>\n",
       "      <td>1</td>\n",
       "    </tr>\n",
       "    <tr>\n",
       "      <th>1</th>\n",
       "      <td>e8064fa6-f6d1-4c57-889b-594fbaeb91c3</td>\n",
       "      <td>[[161, 161, 174, 189, 173, 166, 142, 131, 80, ...</td>\n",
       "      <td>1</td>\n",
       "    </tr>\n",
       "    <tr>\n",
       "      <th>2</th>\n",
       "      <td>a663be20-e30c-40ac-926a-26b64c52457f</td>\n",
       "      <td>[[219, 219, 221, 219, 218, 219, 221, 222, 220,...</td>\n",
       "      <td>1</td>\n",
       "    </tr>\n",
       "    <tr>\n",
       "      <th>3</th>\n",
       "      <td>9e658b7d-3269-4d2f-8ae7-902f761865d6</td>\n",
       "      <td>[[173, 107, 81, 109, 143, 157, 159, 158, 168, ...</td>\n",
       "      <td>1</td>\n",
       "    </tr>\n",
       "    <tr>\n",
       "      <th>4</th>\n",
       "      <td>7a37b2ff-2400-4f4d-969b-7a98dc43bb65</td>\n",
       "      <td>[[91, 124, 136, 88, 63, 71, 61, 86, 95, 124, 1...</td>\n",
       "      <td>1</td>\n",
       "    </tr>\n",
       "  </tbody>\n",
       "</table>\n",
       "</div>"
      ],
      "text/plain": [
       "                                   name  \\\n",
       "0  bee9cf01-3c37-4605-bb49-1695e19882d1   \n",
       "1  e8064fa6-f6d1-4c57-889b-594fbaeb91c3   \n",
       "2  a663be20-e30c-40ac-926a-26b64c52457f   \n",
       "3  9e658b7d-3269-4d2f-8ae7-902f761865d6   \n",
       "4  7a37b2ff-2400-4f4d-969b-7a98dc43bb65   \n",
       "\n",
       "                                          img_pixels  label  \n",
       "0  [[72, 77, 100, 83, 72, 74, 104, 97, 77, 79, 74...      1  \n",
       "1  [[161, 161, 174, 189, 173, 166, 142, 131, 80, ...      1  \n",
       "2  [[219, 219, 221, 219, 218, 219, 221, 222, 220,...      1  \n",
       "3  [[173, 107, 81, 109, 143, 157, 159, 158, 168, ...      1  \n",
       "4  [[91, 124, 136, 88, 63, 71, 61, 86, 95, 124, 1...      1  "
      ]
     },
     "execution_count": 14,
     "metadata": {},
     "output_type": "execute_result"
    }
   ],
   "source": [
    "df.head()\n"
   ]
  },
  {
   "cell_type": "code",
   "execution_count": 15,
   "id": "3ba17978",
   "metadata": {},
   "outputs": [
    {
     "data": {
      "text/plain": [
       "array([1, 0, 2, 3], dtype=int64)"
      ]
     },
     "execution_count": 15,
     "metadata": {},
     "output_type": "execute_result"
    }
   ],
   "source": [
    "df[\"label\"].unique()"
   ]
  },
  {
   "cell_type": "code",
   "execution_count": 16,
   "id": "c259d192",
   "metadata": {},
   "outputs": [
    {
     "data": {
      "text/plain": [
       "2    1404\n",
       "0    1111\n",
       "1     842\n",
       "3     664\n",
       "Name: label, dtype: int64"
      ]
     },
     "execution_count": 16,
     "metadata": {},
     "output_type": "execute_result"
    }
   ],
   "source": [
    "df[\"label\"].value_counts()"
   ]
  },
  {
   "cell_type": "code",
   "execution_count": 17,
   "id": "e5d21196",
   "metadata": {},
   "outputs": [
    {
     "data": {
      "text/plain": [
       "(128, 128)"
      ]
     },
     "execution_count": 17,
     "metadata": {},
     "output_type": "execute_result"
    }
   ],
   "source": [
    "df[\"img_pixels\"][0].shape"
   ]
  },
  {
   "cell_type": "markdown",
   "id": "73d0fc08",
   "metadata": {},
   "source": [
    "# VISUALIZING IMAGE"
   ]
  },
  {
   "cell_type": "code",
   "execution_count": 18,
   "id": "d2071c82",
   "metadata": {},
   "outputs": [
    {
     "data": {
      "text/plain": [
       "<matplotlib.image.AxesImage at 0x1febc11df90>"
      ]
     },
     "execution_count": 18,
     "metadata": {},
     "output_type": "execute_result"
    },
    {
     "data": {
      "image/png": "[encoded data removed]",
      "text/plain": [
       "<Figure size 640x480 with 1 Axes>"
      ]
     },
     "metadata": {},
     "output_type": "display_data"
    }
   ],
   "source": [
    "plt.imshow(df[\"img_pixels\"][0])"
   ]
  },
  {
   "cell_type": "code",
   "execution_count": 19,
   "id": "6bfd4f99",
   "metadata": {},
   "outputs": [],
   "source": [
    "#Getting X and Y from the dataframe"
   ]
  },
  {
   "cell_type": "code",
   "execution_count": 20,
   "id": "55b85e30",
   "metadata": {},
   "outputs": [],
   "source": [
    "x=np.array(X)"
   ]
  },
  {
   "cell_type": "code",
   "execution_count": 21,
   "id": "31d4839a",
   "metadata": {},
   "outputs": [
    {
     "data": {
      "text/plain": [
       "(4021, 128, 128)"
      ]
     },
     "execution_count": 21,
     "metadata": {},
     "output_type": "execute_result"
    }
   ],
   "source": [
    "x.shape"
   ]
  },
  {
   "cell_type": "code",
   "execution_count": 22,
   "id": "d0ebc2eb",
   "metadata": {},
   "outputs": [],
   "source": [
    "y=np.array(df[\"label\"])"
   ]
  },
  {
   "cell_type": "code",
   "execution_count": 23,
   "id": "5d7a8c4b",
   "metadata": {},
   "outputs": [
    {
     "data": {
      "text/plain": [
       "(4021,)"
      ]
     },
     "execution_count": 23,
     "metadata": {},
     "output_type": "execute_result"
    }
   ],
   "source": [
    "y.shape"
   ]
  },
  {
   "cell_type": "code",
   "execution_count": null,
   "id": "0eb55dc0",
   "metadata": {},
   "outputs": [],
   "source": []
  },
  {
   "cell_type": "code",
   "execution_count": 24,
   "id": "37e205e2",
   "metadata": {},
   "outputs": [],
   "source": [
    "#prepare Data"
   ]
  },
  {
   "cell_type": "code",
   "execution_count": 25,
   "id": "6d9f1bd7",
   "metadata": {},
   "outputs": [],
   "source": [
    "x_update=x.reshape(len(x),-1)"
   ]
  },
  {
   "cell_type": "code",
   "execution_count": 26,
   "id": "a86a878a",
   "metadata": {},
   "outputs": [
    {
     "data": {
      "text/plain": [
       "(4021, 16384)"
      ]
     },
     "execution_count": 26,
     "metadata": {},
     "output_type": "execute_result"
    }
   ],
   "source": [
    "x_update.shape"
   ]
  },
  {
   "cell_type": "code",
   "execution_count": 27,
   "id": "3912994b",
   "metadata": {},
   "outputs": [],
   "source": [
    "y_update=y"
   ]
  },
  {
   "cell_type": "code",
   "execution_count": 28,
   "id": "e0de7a85",
   "metadata": {},
   "outputs": [
    {
     "data": {
      "text/plain": [
       "(4021,)"
      ]
     },
     "execution_count": 28,
     "metadata": {},
     "output_type": "execute_result"
    }
   ],
   "source": [
    "y_update.shape"
   ]
  },
  {
   "cell_type": "code",
   "execution_count": 29,
   "id": "82902ed9",
   "metadata": {},
   "outputs": [
    {
     "data": {
      "text/plain": [
       "2"
      ]
     },
     "execution_count": 29,
     "metadata": {},
     "output_type": "execute_result"
    }
   ],
   "source": [
    "y_update[22]"
   ]
  },
  {
   "cell_type": "markdown",
   "id": "1b340ca2",
   "metadata": {},
   "source": [
    "# Reading and Preparing Testing Data:"
   ]
  },
  {
   "cell_type": "code",
   "execution_count": 30,
   "id": "ac8431e3",
   "metadata": {},
   "outputs": [
    {
     "data": {
      "text/html": [
       "<div>\n",
       "<style scoped>\n",
       "    .dataframe tbody tr th:only-of-type {\n",
       "        vertical-align: middle;\n",
       "    }\n",
       "\n",
       "    .dataframe tbody tr th {\n",
       "        vertical-align: top;\n",
       "    }\n",
       "\n",
       "    .dataframe thead th {\n",
       "        text-align: right;\n",
       "    }\n",
       "</style>\n",
       "<table border=\"1\" class=\"dataframe\">\n",
       "  <thead>\n",
       "    <tr style=\"text-align: right;\">\n",
       "      <th></th>\n",
       "      <th>name</th>\n",
       "      <th>label</th>\n",
       "    </tr>\n",
       "  </thead>\n",
       "  <tbody>\n",
       "    <tr>\n",
       "      <th>0</th>\n",
       "      <td>2b81b0e3-6ccb-41db-928f-2c275f4f292f</td>\n",
       "      <td>NaN</td>\n",
       "    </tr>\n",
       "    <tr>\n",
       "      <th>1</th>\n",
       "      <td>75e91aad-dd6b-420f-a09e-00380358bbed</td>\n",
       "      <td>NaN</td>\n",
       "    </tr>\n",
       "    <tr>\n",
       "      <th>2</th>\n",
       "      <td>1ab2def0-4660-4cd4-9b76-c90e5c9ddcfe</td>\n",
       "      <td>NaN</td>\n",
       "    </tr>\n",
       "    <tr>\n",
       "      <th>3</th>\n",
       "      <td>2391f5d8-dfe3-40f2-8403-fc7600a68076</td>\n",
       "      <td>NaN</td>\n",
       "    </tr>\n",
       "    <tr>\n",
       "      <th>4</th>\n",
       "      <td>15cf1a27-e6be-486e-9711-db27bbb58d19</td>\n",
       "      <td>NaN</td>\n",
       "    </tr>\n",
       "    <tr>\n",
       "      <th>5</th>\n",
       "      <td>d0c09627-6285-497e-bdf6-ba1f29b9298e</td>\n",
       "      <td>NaN</td>\n",
       "    </tr>\n",
       "    <tr>\n",
       "      <th>6</th>\n",
       "      <td>b7ba1f41-3a62-49d8-b090-5a3e90d7d880</td>\n",
       "      <td>NaN</td>\n",
       "    </tr>\n",
       "    <tr>\n",
       "      <th>7</th>\n",
       "      <td>b858554e-c316-4604-aab9-54e6c1ce3fd2</td>\n",
       "      <td>NaN</td>\n",
       "    </tr>\n",
       "    <tr>\n",
       "      <th>8</th>\n",
       "      <td>00c0fa51-6f68-4e41-8944-69962995ff92</td>\n",
       "      <td>NaN</td>\n",
       "    </tr>\n",
       "    <tr>\n",
       "      <th>9</th>\n",
       "      <td>ebfb4a95-ab7d-416f-8e0b-556a12015436</td>\n",
       "      <td>NaN</td>\n",
       "    </tr>\n",
       "  </tbody>\n",
       "</table>\n",
       "</div>"
      ],
      "text/plain": [
       "                                   name  label\n",
       "0  2b81b0e3-6ccb-41db-928f-2c275f4f292f    NaN\n",
       "1  75e91aad-dd6b-420f-a09e-00380358bbed    NaN\n",
       "2  1ab2def0-4660-4cd4-9b76-c90e5c9ddcfe    NaN\n",
       "3  2391f5d8-dfe3-40f2-8403-fc7600a68076    NaN\n",
       "4  15cf1a27-e6be-486e-9711-db27bbb58d19    NaN\n",
       "5  d0c09627-6285-497e-bdf6-ba1f29b9298e    NaN\n",
       "6  b7ba1f41-3a62-49d8-b090-5a3e90d7d880    NaN\n",
       "7  b858554e-c316-4604-aab9-54e6c1ce3fd2    NaN\n",
       "8  00c0fa51-6f68-4e41-8944-69962995ff92    NaN\n",
       "9  ebfb4a95-ab7d-416f-8e0b-556a12015436    NaN"
      ]
     },
     "execution_count": 30,
     "metadata": {},
     "output_type": "execute_result"
    }
   ],
   "source": [
    "test_csv=pd.read_csv(\"Data/test.csv\")\n",
    "test_csv.head(10)"
   ]
  },
  {
   "cell_type": "code",
   "execution_count": 31,
   "id": "e1da53ca",
   "metadata": {},
   "outputs": [],
   "source": [
    "image_ts=test_csv[\"name\"].tolist()"
   ]
  },
  {
   "cell_type": "code",
   "execution_count": 32,
   "id": "bceab642",
   "metadata": {},
   "outputs": [],
   "source": [
    "import cv2\n",
    "X_test=[]\n",
    "\n",
    "for name in image_ts:\n",
    "    path=\"Data/test/\"\n",
    "    img1=cv2.imread(path+name+\".jpg\",0)\n",
    "    img1=cv2.resize(img1,(128,128))\n",
    "    X_test.append(img1)"
   ]
  },
  {
   "cell_type": "code",
   "execution_count": 33,
   "id": "5c9add23",
   "metadata": {},
   "outputs": [],
   "source": [
    "#Falttening the testing images"
   ]
  },
  {
   "cell_type": "code",
   "execution_count": 34,
   "id": "43f21ed1",
   "metadata": {},
   "outputs": [],
   "source": [
    "x_test=np.array(X_test)"
   ]
  },
  {
   "cell_type": "code",
   "execution_count": 35,
   "id": "8f0251db",
   "metadata": {},
   "outputs": [
    {
     "data": {
      "text/plain": [
       "(2139, 128, 128)"
      ]
     },
     "execution_count": 35,
     "metadata": {},
     "output_type": "execute_result"
    }
   ],
   "source": [
    "x_test.shape"
   ]
  },
  {
   "cell_type": "code",
   "execution_count": 36,
   "id": "9b7e3e78",
   "metadata": {},
   "outputs": [],
   "source": [
    "x_test_updated=x_test.reshape(len(x_test),-1)"
   ]
  },
  {
   "cell_type": "code",
   "execution_count": 37,
   "id": "4d6b5514",
   "metadata": {},
   "outputs": [
    {
     "data": {
      "text/plain": [
       "(2139, 16384)"
      ]
     },
     "execution_count": 37,
     "metadata": {},
     "output_type": "execute_result"
    }
   ],
   "source": [
    "x_test_updated.shape"
   ]
  },
  {
   "cell_type": "markdown",
   "id": "2bcb75cd",
   "metadata": {},
   "source": [
    "# Evaluation Label (y)"
   ]
  },
  {
   "cell_type": "code",
   "execution_count": 38,
   "id": "cfbaed99",
   "metadata": {},
   "outputs": [],
   "source": [
    "df_eve=pd.read_csv(\"Data/test_dummy.csv\")"
   ]
  },
  {
   "cell_type": "code",
   "execution_count": 39,
   "id": "4a416e19",
   "metadata": {},
   "outputs": [
    {
     "data": {
      "text/html": [
       "<div>\n",
       "<style scoped>\n",
       "    .dataframe tbody tr th:only-of-type {\n",
       "        vertical-align: middle;\n",
       "    }\n",
       "\n",
       "    .dataframe tbody tr th {\n",
       "        vertical-align: top;\n",
       "    }\n",
       "\n",
       "    .dataframe thead th {\n",
       "        text-align: right;\n",
       "    }\n",
       "</style>\n",
       "<table border=\"1\" class=\"dataframe\">\n",
       "  <thead>\n",
       "    <tr style=\"text-align: right;\">\n",
       "      <th></th>\n",
       "      <th>name</th>\n",
       "      <th>label</th>\n",
       "    </tr>\n",
       "  </thead>\n",
       "  <tbody>\n",
       "    <tr>\n",
       "      <th>0</th>\n",
       "      <td>2b81b0e3-6ccb-41db-928f-2c275f4f292f</td>\n",
       "      <td>3</td>\n",
       "    </tr>\n",
       "    <tr>\n",
       "      <th>1</th>\n",
       "      <td>75e91aad-dd6b-420f-a09e-00380358bbed</td>\n",
       "      <td>1</td>\n",
       "    </tr>\n",
       "    <tr>\n",
       "      <th>2</th>\n",
       "      <td>1ab2def0-4660-4cd4-9b76-c90e5c9ddcfe</td>\n",
       "      <td>1</td>\n",
       "    </tr>\n",
       "    <tr>\n",
       "      <th>3</th>\n",
       "      <td>2391f5d8-dfe3-40f2-8403-fc7600a68076</td>\n",
       "      <td>1</td>\n",
       "    </tr>\n",
       "    <tr>\n",
       "      <th>4</th>\n",
       "      <td>15cf1a27-e6be-486e-9711-db27bbb58d19</td>\n",
       "      <td>3</td>\n",
       "    </tr>\n",
       "  </tbody>\n",
       "</table>\n",
       "</div>"
      ],
      "text/plain": [
       "                                   name  label\n",
       "0  2b81b0e3-6ccb-41db-928f-2c275f4f292f      3\n",
       "1  75e91aad-dd6b-420f-a09e-00380358bbed      1\n",
       "2  1ab2def0-4660-4cd4-9b76-c90e5c9ddcfe      1\n",
       "3  2391f5d8-dfe3-40f2-8403-fc7600a68076      1\n",
       "4  15cf1a27-e6be-486e-9711-db27bbb58d19      3"
      ]
     },
     "execution_count": 39,
     "metadata": {},
     "output_type": "execute_result"
    }
   ],
   "source": [
    "df_eve.head()"
   ]
  },
  {
   "cell_type": "code",
   "execution_count": 40,
   "id": "4a97d1a8",
   "metadata": {},
   "outputs": [],
   "source": [
    "y_eve=np.array(df_eve[\"label\"])"
   ]
  },
  {
   "cell_type": "code",
   "execution_count": 41,
   "id": "ce4ab2f1",
   "metadata": {},
   "outputs": [],
   "source": [
    "y_eve_update=y_eve"
   ]
  },
  {
   "cell_type": "code",
   "execution_count": 42,
   "id": "ceaabe1d",
   "metadata": {},
   "outputs": [
    {
     "data": {
      "text/plain": [
       "(2139,)"
      ]
     },
     "execution_count": 42,
     "metadata": {},
     "output_type": "execute_result"
    }
   ],
   "source": [
    "y_eve_update.shape"
   ]
  },
  {
   "cell_type": "code",
   "execution_count": 43,
   "id": "bb74e792",
   "metadata": {},
   "outputs": [],
   "source": [
    "#Writing down simplified variables:\n",
    "\n",
    "x_train=x_update\n",
    "y_train=y_update\n",
    "\n",
    "x_test=x_test_updated\n",
    "y_test=y_eve_update"
   ]
  },
  {
   "cell_type": "markdown",
   "id": "7f5c19ab",
   "metadata": {},
   "source": [
    "# Feature Scaling"
   ]
  },
  {
   "cell_type": "code",
   "execution_count": 44,
   "id": "1d0cf4f7",
   "metadata": {},
   "outputs": [
    {
     "name": "stdout",
     "output_type": "stream",
     "text": [
      "255 4\n",
      "255 3\n"
     ]
    }
   ],
   "source": [
    "print(x_train.max(),x_train.min())\n",
    "print(x_test.max(),x_test.min())"
   ]
  },
  {
   "cell_type": "code",
   "execution_count": 45,
   "id": "e06e24ad",
   "metadata": {},
   "outputs": [],
   "source": [
    "x_train=x_train/255\n",
    "x_test=x_test/255"
   ]
  },
  {
   "cell_type": "code",
   "execution_count": 46,
   "id": "fdc29e8c",
   "metadata": {},
   "outputs": [
    {
     "name": "stdout",
     "output_type": "stream",
     "text": [
      "1.0 0.01568627450980392\n",
      "1.0 0.011764705882352941\n"
     ]
    }
   ],
   "source": [
    "print(x_train.max(),x_train.min())\n",
    "print(x_test.max(),x_test.min())"
   ]
  },
  {
   "cell_type": "markdown",
   "id": "f1c97eae",
   "metadata": {},
   "source": [
    "# PCA For Feature Extraction"
   ]
  },
  {
   "cell_type": "code",
   "execution_count": 47,
   "id": "95450317",
   "metadata": {},
   "outputs": [],
   "source": [
    "from sklearn.decomposition import PCA"
   ]
  },
  {
   "cell_type": "code",
   "execution_count": 48,
   "id": "5442ae0c",
   "metadata": {},
   "outputs": [
    {
     "name": "stdout",
     "output_type": "stream",
     "text": [
      "(4021, 16384) (2139, 16384)\n"
     ]
    }
   ],
   "source": [
    "print(x_train.shape,x_test.shape)\n"
   ]
  },
  {
   "cell_type": "code",
   "execution_count": null,
   "id": "51fc03b2",
   "metadata": {},
   "outputs": [],
   "source": []
  },
  {
   "cell_type": "code",
   "execution_count": null,
   "id": "af48266d",
   "metadata": {},
   "outputs": [],
   "source": [
    "\n"
   ]
  },
  {
   "cell_type": "code",
   "execution_count": null,
   "id": "fd8ee0be",
   "metadata": {},
   "outputs": [],
   "source": []
  },
  {
   "cell_type": "code",
   "execution_count": 49,
   "id": "c4aa73ea",
   "metadata": {},
   "outputs": [
    {
     "data": {
      "text/html": [
       "<style>#sk-container-id-1 {color: black;}#sk-container-id-1 pre{padding: 0;}#sk-container-id-1 div.sk-toggleable {background-color: white;}#sk-container-id-1 label.sk-toggleable__label {cursor: pointer;display: block;width: 100%;margin-bottom: 0;padding: 0.3em;box-sizing: border-box;text-align: center;}#sk-container-id-1 label.sk-toggleable__label-arrow:before {content: \"▸\";float: left;margin-right: 0.25em;color: #696969;}#sk-container-id-1 label.sk-toggleable__label-arrow:hover:before {color: black;}#sk-container-id-1 div.sk-estimator:hover label.sk-toggleable__label-arrow:before {color: black;}#sk-container-id-1 div.sk-toggleable__content {max-height: 0;max-width: 0;overflow: hidden;text-align: left;background-color: #f0f8ff;}#sk-container-id-1 div.sk-toggleable__content pre {margin: 0.2em;color: black;border-radius: 0.25em;background-color: #f0f8ff;}#sk-container-id-1 input.sk-toggleable__control:checked~div.sk-toggleable__content {max-height: 200px;max-width: 100%;overflow: auto;}#sk-container-id-1 input.sk-toggleable__control:checked~label.sk-toggleable__label-arrow:before {content: \"▾\";}#sk-container-id-1 div.sk-estimator input.sk-toggleable__control:checked~label.sk-toggleable__label {background-color: #d4ebff;}#sk-container-id-1 div.sk-label input.sk-toggleable__control:checked~label.sk-toggleable__label {background-color: #d4ebff;}#sk-container-id-1 input.sk-hidden--visually {border: 0;clip: rect(1px 1px 1px 1px);clip: rect(1px, 1px, 1px, 1px);height: 1px;margin: -1px;overflow: hidden;padding: 0;position: absolute;width: 1px;}#sk-container-id-1 div.sk-estimator {font-family: monospace;background-color: #f0f8ff;border: 1px dotted black;border-radius: 0.25em;box-sizing: border-box;margin-bottom: 0.5em;}#sk-container-id-1 div.sk-estimator:hover {background-color: #d4ebff;}#sk-container-id-1 div.sk-parallel-item::after {content: \"\";width: 100%;border-bottom: 1px solid gray;flex-grow: 1;}#sk-container-id-1 div.sk-label:hover label.sk-toggleable__label {background-color: #d4ebff;}#sk-container-id-1 div.sk-serial::before {content: \"\";position: absolute;border-left: 1px solid gray;box-sizing: border-box;top: 0;bottom: 0;left: 50%;z-index: 0;}#sk-container-id-1 div.sk-serial {display: flex;flex-direction: column;align-items: center;background-color: white;padding-right: 0.2em;padding-left: 0.2em;position: relative;}#sk-container-id-1 div.sk-item {position: relative;z-index: 1;}#sk-container-id-1 div.sk-parallel {display: flex;align-items: stretch;justify-content: center;background-color: white;position: relative;}#sk-container-id-1 div.sk-item::before, #sk-container-id-1 div.sk-parallel-item::before {content: \"\";position: absolute;border-left: 1px solid gray;box-sizing: border-box;top: 0;bottom: 0;left: 50%;z-index: -1;}#sk-container-id-1 div.sk-parallel-item {display: flex;flex-direction: column;z-index: 1;position: relative;background-color: white;}#sk-container-id-1 div.sk-parallel-item:first-child::after {align-self: flex-end;width: 50%;}#sk-container-id-1 div.sk-parallel-item:last-child::after {align-self: flex-start;width: 50%;}#sk-container-id-1 div.sk-parallel-item:only-child::after {width: 0;}#sk-container-id-1 div.sk-dashed-wrapped {border: 1px dashed gray;margin: 0 0.4em 0.5em 0.4em;box-sizing: border-box;padding-bottom: 0.4em;background-color: white;}#sk-container-id-1 div.sk-label label {font-family: monospace;font-weight: bold;display: inline-block;line-height: 1.2em;}#sk-container-id-1 div.sk-label-container {text-align: center;}#sk-container-id-1 div.sk-container {/* jupyter's `normalize.less` sets `[hidden] { display: none; }` but bootstrap.min.css set `[hidden] { display: none !important; }` so we also need the `!important` here to be able to override the default hidden behavior on the sphinx rendered scikit-learn.org. See: https://github.com/scikit-learn/scikit-learn/issues/21755 */display: inline-block !important;position: relative;}#sk-container-id-1 div.sk-text-repr-fallback {display: none;}</style><div id=\"sk-container-id-1\" class=\"sk-top-container\"><div class=\"sk-text-repr-fallback\"><pre>SVC()</pre><b>In a Jupyter environment, please rerun this cell to show the HTML representation or trust the notebook. <br />On GitHub, the HTML representation is unable to render, please try loading this page with nbviewer.org.</b></div><div class=\"sk-container\" hidden><div class=\"sk-item\"><div class=\"sk-estimator sk-toggleable\"><input class=\"sk-toggleable__control sk-hidden--visually\" id=\"sk-estimator-id-1\" type=\"checkbox\" checked><label for=\"sk-estimator-id-1\" class=\"sk-toggleable__label sk-toggleable__label-arrow\">SVC</label><div class=\"sk-toggleable__content\"><pre>SVC()</pre></div></div></div></div></div>"
      ],
      "text/plain": [
       "SVC()"
      ]
     },
     "execution_count": 49,
     "metadata": {},
     "output_type": "execute_result"
    }
   ],
   "source": [
    "#Training using SVM\n",
    "\n",
    "from sklearn.svm import SVC\n",
    "sv=SVC()\n",
    "\n",
    "sv.fit(x_train,y_train)"
   ]
  },
  {
   "cell_type": "code",
   "execution_count": 50,
   "id": "eede338b",
   "metadata": {},
   "outputs": [],
   "source": [
    "#Performing prediction\n",
    "\n",
    "y_hat=sv.predict(x_test)"
   ]
  },
  {
   "cell_type": "code",
   "execution_count": 51,
   "id": "0feb524d",
   "metadata": {},
   "outputs": [],
   "source": [
    "#Evaluation"
   ]
  },
  {
   "cell_type": "code",
   "execution_count": 52,
   "id": "cd52ab1c",
   "metadata": {},
   "outputs": [
    {
     "name": "stdout",
     "output_type": "stream",
     "text": [
      "              precision    recall  f1-score   support\n",
      "\n",
      "           0       0.35      0.27      0.31       707\n",
      "           1       0.04      0.26      0.06        70\n",
      "           2       0.59      0.27      0.37      1225\n",
      "           3       0.06      0.25      0.10       137\n",
      "\n",
      "    accuracy                           0.27      2139\n",
      "   macro avg       0.26      0.26      0.21      2139\n",
      "weighted avg       0.46      0.27      0.32      2139\n",
      "\n"
     ]
    }
   ],
   "source": [
    "from sklearn.metrics import classification_report\n",
    "\n",
    "print(classification_report(y_hat,y_test))"
   ]
  },
  {
   "cell_type": "code",
   "execution_count": 53,
   "id": "e0722c18",
   "metadata": {},
   "outputs": [],
   "source": [
    "P=pd.Series(y_hat)"
   ]
  },
  {
   "cell_type": "code",
   "execution_count": 54,
   "id": "1a025257",
   "metadata": {},
   "outputs": [],
   "source": [
    "test_csv=test_csv.insert(loc=1,column=\"Predicted\",value=P)"
   ]
  },
  {
   "cell_type": "code",
   "execution_count": 55,
   "id": "d99fced2",
   "metadata": {},
   "outputs": [],
   "source": [
    "df2=pd.read_csv(directory+\"test.csv\")"
   ]
  },
  {
   "cell_type": "code",
   "execution_count": 56,
   "id": "0bcb8173",
   "metadata": {},
   "outputs": [],
   "source": [
    "df2=df2.drop(\"label\", axis=1)"
   ]
  },
  {
   "cell_type": "code",
   "execution_count": 57,
   "id": "e8120dcd",
   "metadata": {},
   "outputs": [],
   "source": [
    "df2.insert(loc=1,column=\"label\",value=P)"
   ]
  },
  {
   "cell_type": "code",
   "execution_count": 58,
   "id": "89225fcb",
   "metadata": {},
   "outputs": [
    {
     "data": {
      "text/html": [
       "<div>\n",
       "<style scoped>\n",
       "    .dataframe tbody tr th:only-of-type {\n",
       "        vertical-align: middle;\n",
       "    }\n",
       "\n",
       "    .dataframe tbody tr th {\n",
       "        vertical-align: top;\n",
       "    }\n",
       "\n",
       "    .dataframe thead th {\n",
       "        text-align: right;\n",
       "    }\n",
       "</style>\n",
       "<table border=\"1\" class=\"dataframe\">\n",
       "  <thead>\n",
       "    <tr style=\"text-align: right;\">\n",
       "      <th></th>\n",
       "      <th>name</th>\n",
       "      <th>label</th>\n",
       "    </tr>\n",
       "  </thead>\n",
       "  <tbody>\n",
       "    <tr>\n",
       "      <th>0</th>\n",
       "      <td>2b81b0e3-6ccb-41db-928f-2c275f4f292f</td>\n",
       "      <td>2</td>\n",
       "    </tr>\n",
       "    <tr>\n",
       "      <th>1</th>\n",
       "      <td>75e91aad-dd6b-420f-a09e-00380358bbed</td>\n",
       "      <td>3</td>\n",
       "    </tr>\n",
       "    <tr>\n",
       "      <th>2</th>\n",
       "      <td>1ab2def0-4660-4cd4-9b76-c90e5c9ddcfe</td>\n",
       "      <td>2</td>\n",
       "    </tr>\n",
       "    <tr>\n",
       "      <th>3</th>\n",
       "      <td>2391f5d8-dfe3-40f2-8403-fc7600a68076</td>\n",
       "      <td>0</td>\n",
       "    </tr>\n",
       "    <tr>\n",
       "      <th>4</th>\n",
       "      <td>15cf1a27-e6be-486e-9711-db27bbb58d19</td>\n",
       "      <td>2</td>\n",
       "    </tr>\n",
       "  </tbody>\n",
       "</table>\n",
       "</div>"
      ],
      "text/plain": [
       "                                   name  label\n",
       "0  2b81b0e3-6ccb-41db-928f-2c275f4f292f      2\n",
       "1  75e91aad-dd6b-420f-a09e-00380358bbed      3\n",
       "2  1ab2def0-4660-4cd4-9b76-c90e5c9ddcfe      2\n",
       "3  2391f5d8-dfe3-40f2-8403-fc7600a68076      0\n",
       "4  15cf1a27-e6be-486e-9711-db27bbb58d19      2"
      ]
     },
     "execution_count": 58,
     "metadata": {},
     "output_type": "execute_result"
    }
   ],
   "source": [
    "df2.head()"
   ]
  },
  {
   "cell_type": "code",
   "execution_count": null,
   "id": "e5b413a5",
   "metadata": {},
   "outputs": [],
   "source": []
  },
  {
   "cell_type": "code",
   "execution_count": 60,
   "id": "5af91a46",
   "metadata": {},
   "outputs": [],
   "source": [
    "df2.to_csv('Prediction.csv',sep=\",\",index=False)"
   ]
  },
  {
   "cell_type": "code",
   "execution_count": null,
   "id": "94be8db6",
   "metadata": {},
   "outputs": [],
   "source": []
  },
  {
   "cell_type": "code",
   "execution_count": null,
   "id": "e3e9b637",
   "metadata": {},
   "outputs": [],
   "source": []
  },
  {
   "cell_type": "code",
   "execution_count": null,
   "id": "6bab5b89",
   "metadata": {},
   "outputs": [],
   "source": []
  }
 ],
 "metadata": {
  "kernelspec": {
   "display_name": "Python 3 (ipykernel)",
   "language": "python",
   "name": "python3"
  },
  "language_info": {
   "codemirror_mode": {
    "name": "ipython",
    "version": 3
   },
   "file_extension": ".py",
   "mimetype": "text/x-python",
   "name": "python",
   "nbconvert_exporter": "python",
   "pygments_lexer": "ipython3",
   "version": "3.11.4"
  }
 },
 "nbformat": 4,
 "nbformat_minor": 5
}
